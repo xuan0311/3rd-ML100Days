{
 "cells": [
  {
   "cell_type": "markdown",
   "metadata": {},
   "source": [
    "# [Day051-053 機器學習百日馬拉松期中考] \n",
    "## Enron Fraud Dataset 安隆公司詐欺案資料集\n",
    "\n",
    "- 安隆公司曾是一間能源公司，2001 年破產前是世界上最大的電力、天然氣及電信公司之一。擁有上千億資產的公司於 2002 年竟然在短短幾周內宣告破產，才揭露其財報在多年以來均是造假的醜聞。\n",
    "\n",
    "\n",
    "- 在本資料集中你將會扮演偵探的角色，透過高層經理人內部的 mail 來往的情報以及薪資、股票等財務特徵，訓練出一個機器學習模型來幫忙你找到可疑的詐欺犯罪者是誰!我們已經先幫你找到幾位犯罪者 (Person-of-Interest, poi) 與清白的員工，請利用這些訓練資料來訓練屬於自己的詐欺犯機器學習模型吧!\n",
    "*******************************************************\n",
    "### 特徵說明\n",
    "\n",
    "#### [財務]有關的特徵:\n",
    "['salary', 'deferral_payments', 'total_payments', 'loan_advances', 'bonus', 'restricted_stock_deferred', 'deferred_income', 'total_stock_value', 'expenses', 'exercised_stock_options', 'other', 'long_term_incentive', 'restricted_stock', 'director_fees'] \n",
    "\n",
    "#### [email]有關的特徵:\n",
    "['to_messages', 'email_address', 'from_poi_to_this_person', 'from_messages', 'from_this_person_to_poi', 'shared_receipt_with_poi'] \n",
    "\n",
    "#### 嫌疑人的標記(label): \n",
    "POI label: [‘poi’] (boolean, represented as integer)"
   ]
  },
  {
   "cell_type": "code",
   "execution_count": 1,
   "metadata": {},
   "outputs": [
    {
     "name": "stdout",
     "output_type": "stream",
     "text": [
      "train_data:(113, 22)\n",
      "test_shape:(33, 21)\n"
     ]
    }
   ],
   "source": [
    "# 做完特徵工程前的所有準備 (與前範例相同)\n",
    "import pandas as pd\n",
    "import numpy as np\n",
    "import copy, time\n",
    "import warnings\n",
    "import os\n",
    "import matplotlib.pyplot as plt\n",
    "\n",
    "# 跳過警告訊息\n",
    "warnings.filterwarnings('ignore')\n",
    "from IPython.display import display\n",
    "from sklearn.preprocessing import MinMaxScaler\n",
    "from sklearn.model_selection import cross_val_score\n",
    "from sklearn.linear_model import LogisticRegression\n",
    "from sklearn.preprocessing import LabelEncoder\n",
    "\n",
    "# 設定 data_path\n",
    "dir_data = './Midterm exam'\n",
    "\n",
    "# 讀取訓練檔\n",
    "# pd.read_csv(header = None): 指定行數用來作為列名\n",
    "train = os.path.join(dir_data, 'train_data.csv')\n",
    "df_train  = pd.read_csv(train,header = 0)\n",
    "\n",
    "# 讀取測試檔\n",
    "# pd.read_csv(header = None): 指定行數用來作為列名\n",
    "test = os.path.join(dir_data, 'test_features.csv')\n",
    "df_test = pd.read_csv(test,header = 0)\n",
    "\n",
    "print(\"train_data:\" + str(df_train.shape))\n",
    "print(\"test_shape:\" +  str(df_test.shape))"
   ]
  },
  {
   "cell_type": "code",
   "execution_count": 2,
   "metadata": {},
   "outputs": [
    {
     "data": {
      "text/html": [
       "<div>\n",
       "<style scoped>\n",
       "    .dataframe tbody tr th:only-of-type {\n",
       "        vertical-align: middle;\n",
       "    }\n",
       "\n",
       "    .dataframe tbody tr th {\n",
       "        vertical-align: top;\n",
       "    }\n",
       "\n",
       "    .dataframe thead th {\n",
       "        text-align: right;\n",
       "    }\n",
       "</style>\n",
       "<table border=\"1\" class=\"dataframe\">\n",
       "  <thead>\n",
       "    <tr style=\"text-align: right;\">\n",
       "      <th></th>\n",
       "      <th>bonus</th>\n",
       "      <th>deferral_payments</th>\n",
       "      <th>deferred_income</th>\n",
       "      <th>director_fees</th>\n",
       "      <th>exercised_stock_options</th>\n",
       "      <th>expenses</th>\n",
       "      <th>from_messages</th>\n",
       "      <th>from_poi_to_this_person</th>\n",
       "      <th>from_this_person_to_poi</th>\n",
       "      <th>loan_advances</th>\n",
       "      <th>long_term_incentive</th>\n",
       "      <th>other</th>\n",
       "      <th>restricted_stock</th>\n",
       "      <th>restricted_stock_deferred</th>\n",
       "      <th>salary</th>\n",
       "      <th>shared_receipt_with_poi</th>\n",
       "      <th>to_messages</th>\n",
       "      <th>total_payments</th>\n",
       "      <th>total_stock_value</th>\n",
       "    </tr>\n",
       "  </thead>\n",
       "  <tbody>\n",
       "    <tr>\n",
       "      <th>count</th>\n",
       "      <td>6.100000e+01</td>\n",
       "      <td>2.800000e+01</td>\n",
       "      <td>3.400000e+01</td>\n",
       "      <td>13.000000</td>\n",
       "      <td>8.100000e+01</td>\n",
       "      <td>73.000000</td>\n",
       "      <td>65.000000</td>\n",
       "      <td>65.000000</td>\n",
       "      <td>65.000000</td>\n",
       "      <td>2.000000e+00</td>\n",
       "      <td>4.900000e+01</td>\n",
       "      <td>6.900000e+01</td>\n",
       "      <td>8.200000e+01</td>\n",
       "      <td>10.000000</td>\n",
       "      <td>7.300000e+01</td>\n",
       "      <td>65.000000</td>\n",
       "      <td>65.000000</td>\n",
       "      <td>9.600000e+01</td>\n",
       "      <td>9.800000e+01</td>\n",
       "    </tr>\n",
       "    <tr>\n",
       "      <th>mean</th>\n",
       "      <td>1.147436e+06</td>\n",
       "      <td>6.344374e+05</td>\n",
       "      <td>-4.625664e+05</td>\n",
       "      <td>89397.846154</td>\n",
       "      <td>2.985081e+06</td>\n",
       "      <td>51040.547945</td>\n",
       "      <td>711.323077</td>\n",
       "      <td>64.800000</td>\n",
       "      <td>40.092308</td>\n",
       "      <td>4.096250e+07</td>\n",
       "      <td>7.926171e+05</td>\n",
       "      <td>4.471774e+05</td>\n",
       "      <td>1.294855e+06</td>\n",
       "      <td>-221885.700000</td>\n",
       "      <td>2.739025e+05</td>\n",
       "      <td>1111.369231</td>\n",
       "      <td>2156.061538</td>\n",
       "      <td>2.590977e+06</td>\n",
       "      <td>3.527136e+06</td>\n",
       "    </tr>\n",
       "    <tr>\n",
       "      <th>std</th>\n",
       "      <td>1.505189e+06</td>\n",
       "      <td>8.603646e+05</td>\n",
       "      <td>8.095392e+05</td>\n",
       "      <td>41143.391399</td>\n",
       "      <td>6.004174e+06</td>\n",
       "      <td>47596.682104</td>\n",
       "      <td>2074.497628</td>\n",
       "      <td>91.863214</td>\n",
       "      <td>88.901407</td>\n",
       "      <td>5.736404e+07</td>\n",
       "      <td>9.504645e+05</td>\n",
       "      <td>1.341564e+06</td>\n",
       "      <td>2.498335e+06</td>\n",
       "      <td>205191.374121</td>\n",
       "      <td>1.716647e+05</td>\n",
       "      <td>1165.852016</td>\n",
       "      <td>2811.676718</td>\n",
       "      <td>1.056645e+07</td>\n",
       "      <td>7.182997e+06</td>\n",
       "    </tr>\n",
       "    <tr>\n",
       "      <th>min</th>\n",
       "      <td>7.000000e+04</td>\n",
       "      <td>-1.025000e+05</td>\n",
       "      <td>-3.504386e+06</td>\n",
       "      <td>3285.000000</td>\n",
       "      <td>3.285000e+03</td>\n",
       "      <td>148.000000</td>\n",
       "      <td>12.000000</td>\n",
       "      <td>0.000000</td>\n",
       "      <td>0.000000</td>\n",
       "      <td>4.000000e+05</td>\n",
       "      <td>7.102300e+04</td>\n",
       "      <td>2.000000e+00</td>\n",
       "      <td>4.409300e+04</td>\n",
       "      <td>-560222.000000</td>\n",
       "      <td>4.770000e+02</td>\n",
       "      <td>2.000000</td>\n",
       "      <td>57.000000</td>\n",
       "      <td>1.480000e+02</td>\n",
       "      <td>-4.409300e+04</td>\n",
       "    </tr>\n",
       "    <tr>\n",
       "      <th>25%</th>\n",
       "      <td>4.500000e+05</td>\n",
       "      <td>7.656750e+04</td>\n",
       "      <td>-5.527032e+05</td>\n",
       "      <td>101250.000000</td>\n",
       "      <td>4.004780e+05</td>\n",
       "      <td>18834.000000</td>\n",
       "      <td>19.000000</td>\n",
       "      <td>10.000000</td>\n",
       "      <td>0.000000</td>\n",
       "      <td>2.068125e+07</td>\n",
       "      <td>2.750000e+05</td>\n",
       "      <td>9.720000e+02</td>\n",
       "      <td>2.689220e+05</td>\n",
       "      <td>-389621.750000</td>\n",
       "      <td>2.061210e+05</td>\n",
       "      <td>178.000000</td>\n",
       "      <td>517.000000</td>\n",
       "      <td>3.024025e+05</td>\n",
       "      <td>4.211518e+05</td>\n",
       "    </tr>\n",
       "    <tr>\n",
       "      <th>50%</th>\n",
       "      <td>7.500000e+05</td>\n",
       "      <td>1.951900e+05</td>\n",
       "      <td>-1.175340e+05</td>\n",
       "      <td>108579.000000</td>\n",
       "      <td>8.500100e+05</td>\n",
       "      <td>41953.000000</td>\n",
       "      <td>45.000000</td>\n",
       "      <td>28.000000</td>\n",
       "      <td>7.000000</td>\n",
       "      <td>4.096250e+07</td>\n",
       "      <td>4.221580e+05</td>\n",
       "      <td>5.238200e+04</td>\n",
       "      <td>4.628225e+05</td>\n",
       "      <td>-139856.500000</td>\n",
       "      <td>2.516540e+05</td>\n",
       "      <td>599.000000</td>\n",
       "      <td>1088.000000</td>\n",
       "      <td>1.106740e+06</td>\n",
       "      <td>9.979710e+05</td>\n",
       "    </tr>\n",
       "    <tr>\n",
       "      <th>75%</th>\n",
       "      <td>1.000000e+06</td>\n",
       "      <td>8.342052e+05</td>\n",
       "      <td>-2.708325e+04</td>\n",
       "      <td>112492.000000</td>\n",
       "      <td>2.165172e+06</td>\n",
       "      <td>59175.000000</td>\n",
       "      <td>215.000000</td>\n",
       "      <td>88.000000</td>\n",
       "      <td>27.000000</td>\n",
       "      <td>6.124375e+07</td>\n",
       "      <td>8.318090e+05</td>\n",
       "      <td>3.620960e+05</td>\n",
       "      <td>9.664905e+05</td>\n",
       "      <td>-77953.250000</td>\n",
       "      <td>2.885890e+05</td>\n",
       "      <td>1902.000000</td>\n",
       "      <td>2649.000000</td>\n",
       "      <td>1.985668e+06</td>\n",
       "      <td>2.493616e+06</td>\n",
       "    </tr>\n",
       "    <tr>\n",
       "      <th>max</th>\n",
       "      <td>8.000000e+06</td>\n",
       "      <td>2.964506e+06</td>\n",
       "      <td>-1.042000e+03</td>\n",
       "      <td>125034.000000</td>\n",
       "      <td>3.434838e+07</td>\n",
       "      <td>228763.000000</td>\n",
       "      <td>14368.000000</td>\n",
       "      <td>528.000000</td>\n",
       "      <td>411.000000</td>\n",
       "      <td>8.152500e+07</td>\n",
       "      <td>5.145434e+06</td>\n",
       "      <td>1.035973e+07</td>\n",
       "      <td>1.476169e+07</td>\n",
       "      <td>44093.000000</td>\n",
       "      <td>1.111258e+06</td>\n",
       "      <td>4527.000000</td>\n",
       "      <td>15149.000000</td>\n",
       "      <td>1.035598e+08</td>\n",
       "      <td>4.911008e+07</td>\n",
       "    </tr>\n",
       "  </tbody>\n",
       "</table>\n",
       "</div>"
      ],
      "text/plain": [
       "              bonus  deferral_payments  deferred_income  director_fees  \\\n",
       "count  6.100000e+01       2.800000e+01     3.400000e+01      13.000000   \n",
       "mean   1.147436e+06       6.344374e+05    -4.625664e+05   89397.846154   \n",
       "std    1.505189e+06       8.603646e+05     8.095392e+05   41143.391399   \n",
       "min    7.000000e+04      -1.025000e+05    -3.504386e+06    3285.000000   \n",
       "25%    4.500000e+05       7.656750e+04    -5.527032e+05  101250.000000   \n",
       "50%    7.500000e+05       1.951900e+05    -1.175340e+05  108579.000000   \n",
       "75%    1.000000e+06       8.342052e+05    -2.708325e+04  112492.000000   \n",
       "max    8.000000e+06       2.964506e+06    -1.042000e+03  125034.000000   \n",
       "\n",
       "       exercised_stock_options       expenses  from_messages  \\\n",
       "count             8.100000e+01      73.000000      65.000000   \n",
       "mean              2.985081e+06   51040.547945     711.323077   \n",
       "std               6.004174e+06   47596.682104    2074.497628   \n",
       "min               3.285000e+03     148.000000      12.000000   \n",
       "25%               4.004780e+05   18834.000000      19.000000   \n",
       "50%               8.500100e+05   41953.000000      45.000000   \n",
       "75%               2.165172e+06   59175.000000     215.000000   \n",
       "max               3.434838e+07  228763.000000   14368.000000   \n",
       "\n",
       "       from_poi_to_this_person  from_this_person_to_poi  loan_advances  \\\n",
       "count                65.000000                65.000000   2.000000e+00   \n",
       "mean                 64.800000                40.092308   4.096250e+07   \n",
       "std                  91.863214                88.901407   5.736404e+07   \n",
       "min                   0.000000                 0.000000   4.000000e+05   \n",
       "25%                  10.000000                 0.000000   2.068125e+07   \n",
       "50%                  28.000000                 7.000000   4.096250e+07   \n",
       "75%                  88.000000                27.000000   6.124375e+07   \n",
       "max                 528.000000               411.000000   8.152500e+07   \n",
       "\n",
       "       long_term_incentive         other  restricted_stock  \\\n",
       "count         4.900000e+01  6.900000e+01      8.200000e+01   \n",
       "mean          7.926171e+05  4.471774e+05      1.294855e+06   \n",
       "std           9.504645e+05  1.341564e+06      2.498335e+06   \n",
       "min           7.102300e+04  2.000000e+00      4.409300e+04   \n",
       "25%           2.750000e+05  9.720000e+02      2.689220e+05   \n",
       "50%           4.221580e+05  5.238200e+04      4.628225e+05   \n",
       "75%           8.318090e+05  3.620960e+05      9.664905e+05   \n",
       "max           5.145434e+06  1.035973e+07      1.476169e+07   \n",
       "\n",
       "       restricted_stock_deferred        salary  shared_receipt_with_poi  \\\n",
       "count                  10.000000  7.300000e+01                65.000000   \n",
       "mean              -221885.700000  2.739025e+05              1111.369231   \n",
       "std                205191.374121  1.716647e+05              1165.852016   \n",
       "min               -560222.000000  4.770000e+02                 2.000000   \n",
       "25%               -389621.750000  2.061210e+05               178.000000   \n",
       "50%               -139856.500000  2.516540e+05               599.000000   \n",
       "75%                -77953.250000  2.885890e+05              1902.000000   \n",
       "max                 44093.000000  1.111258e+06              4527.000000   \n",
       "\n",
       "        to_messages  total_payments  total_stock_value  \n",
       "count     65.000000    9.600000e+01       9.800000e+01  \n",
       "mean    2156.061538    2.590977e+06       3.527136e+06  \n",
       "std     2811.676718    1.056645e+07       7.182997e+06  \n",
       "min       57.000000    1.480000e+02      -4.409300e+04  \n",
       "25%      517.000000    3.024025e+05       4.211518e+05  \n",
       "50%     1088.000000    1.106740e+06       9.979710e+05  \n",
       "75%     2649.000000    1.985668e+06       2.493616e+06  \n",
       "max    15149.000000    1.035598e+08       4.911008e+07  "
      ]
     },
     "execution_count": 2,
     "metadata": {},
     "output_type": "execute_result"
    }
   ],
   "source": [
    "df_train.describe()"
   ]
  },
  {
   "cell_type": "code",
   "execution_count": 3,
   "metadata": {},
   "outputs": [
    {
     "name": "stdout",
     "output_type": "stream",
     "text": [
      "缺少的欄位資料為: {'poi'}\n",
      "\n",
      "兩者資料共同之處: {'total_stock_value', 'total_payments', 'shared_receipt_with_poi', 'to_messages', 'restricted_stock', 'exercised_stock_options', 'deferral_payments', 'director_fees', 'loan_advances', 'from_poi_to_this_person', 'salary', 'name', 'other', 'restricted_stock_deferred', 'from_messages', 'expenses', 'email_address', 'from_this_person_to_poi', 'bonus', 'deferred_income', 'long_term_incentive'}\n"
     ]
    }
   ],
   "source": [
    "# set: 集合是一個無順序的不重複元素序列\n",
    "# 查看訓練資料的欄位(columns名稱)\n",
    "df_trname = set(df_train.columns)\n",
    "# 查看測試資料的欄位(columns名稱)\n",
    "df_tename = set(df_test.columns)\n",
    "\n",
    "# 以訓練欄位名稱資料為主，測試欄位名稱為輔，觀看測試資料所缺少的欄位\n",
    "sd = df_trname.difference(df_tename)\n",
    "print(\"缺少的欄位資料為:\", sd)\n",
    "print() # 空一行\n",
    "# 以訓練欄位名稱資料為主，測試欄位名稱為輔，觀看兩者(訓練資料與測試資料)的共同之處\n",
    "ss = df_trname.intersection(df_tename)\n",
    "print(\"兩者資料共同之處:\", ss)"
   ]
  },
  {
   "cell_type": "markdown",
   "metadata": {},
   "source": [
    "************************\n",
    "# ouliters_detection (離群值偵測)\n",
    "## 開始檢視不同欄位是否有異常值"
   ]
  },
  {
   "cell_type": "code",
   "execution_count": 4,
   "metadata": {},
   "outputs": [
    {
     "name": "stdout",
     "output_type": "stream",
     "text": [
      "編號: 0 金融欄位:  salary\n"
     ]
    },
    {
     "data": {
      "image/png": "[encoded data removed]",
      "text/plain": [
       "<Figure size 432x288 with 1 Axes>"
      ]
     },
     "metadata": {
      "needs_background": "light"
     },
     "output_type": "display_data"
    },
    {
     "name": "stdout",
     "output_type": "stream",
     "text": [
      "==================================================================\n",
      "編號: 1 金融欄位:  deferral_payments\n"
     ]
    },
    {
     "data": {
      "image/png": "[encoded data removed]",
      "text/plain": [
       "<Figure size 432x288 with 1 Axes>"
      ]
     },
     "metadata": {
      "needs_background": "light"
     },
     "output_type": "display_data"
    },
    {
     "name": "stdout",
     "output_type": "stream",
     "text": [
      "==================================================================\n",
      "編號: 2 金融欄位:  total_payments\n"
     ]
    },
    {
     "data": {
      "image/png": "[encoded data removed]",
      "text/plain": [
       "<Figure size 432x288 with 1 Axes>"
      ]
     },
     "metadata": {
      "needs_background": "light"
     },
     "output_type": "display_data"
    },
    {
     "name": "stdout",
     "output_type": "stream",
     "text": [
      "==================================================================\n",
      "編號: 3 金融欄位:  loan_advances\n"
     ]
    },
    {
     "data": {
      "image/png": "[encoded data removed]",
      "text/plain": [
       "<Figure size 432x288 with 1 Axes>"
      ]
     },
     "metadata": {
      "needs_background": "light"
     },
     "output_type": "display_data"
    },
    {
     "name": "stdout",
     "output_type": "stream",
     "text": [
      "==================================================================\n",
      "編號: 4 金融欄位:  bonus\n"
     ]
    },
    {
     "data": {
      "image/png": "[encoded data removed]",
      "text/plain": [
       "<Figure size 432x288 with 1 Axes>"
      ]
     },
     "metadata": {
      "needs_background": "light"
     },
     "output_type": "display_data"
    },
    {
     "name": "stdout",
     "output_type": "stream",
     "text": [
      "==================================================================\n",
      "編號: 5 金融欄位:  restricted_stock_deferred\n"
     ]
    },
    {
     "data": {
      "image/png": "[encoded data removed]",
      "text/plain": [
       "<Figure size 432x288 with 1 Axes>"
      ]
     },
     "metadata": {
      "needs_background": "light"
     },
     "output_type": "display_data"
    },
    {
     "name": "stdout",
     "output_type": "stream",
     "text": [
      "==================================================================\n",
      "編號: 6 金融欄位:  deferred_income\n"
     ]
    },
    {
     "data": {
      "image/png": "[encoded data removed]",
      "text/plain": [
       "<Figure size 432x288 with 1 Axes>"
      ]
     },
     "metadata": {
      "needs_background": "light"
     },
     "output_type": "display_data"
    },
    {
     "name": "stdout",
     "output_type": "stream",
     "text": [
      "==================================================================\n",
      "編號: 7 金融欄位:  total_stock_value\n"
     ]
    },
    {
     "data": {
      "image/png": "[encoded data removed]",
      "text/plain": [
       "<Figure size 432x288 with 1 Axes>"
      ]
     },
     "metadata": {
      "needs_background": "light"
     },
     "output_type": "display_data"
    },
    {
     "name": "stdout",
     "output_type": "stream",
     "text": [
      "==================================================================\n",
      "編號: 8 金融欄位:  expenses\n"
     ]
    },
    {
     "data": {
      "image/png": "[encoded data removed]",
      "text/plain": [
       "<Figure size 432x288 with 1 Axes>"
      ]
     },
     "metadata": {
      "needs_background": "light"
     },
     "output_type": "display_data"
    },
    {
     "name": "stdout",
     "output_type": "stream",
     "text": [
      "==================================================================\n",
      "編號: 9 金融欄位:  exercised_stock_options\n"
     ]
    },
    {
     "data": {
      "image/png": "[encoded data removed]",
      "text/plain": [
       "<Figure size 432x288 with 1 Axes>"
      ]
     },
     "metadata": {
      "needs_background": "light"
     },
     "output_type": "display_data"
    },
    {
     "name": "stdout",
     "output_type": "stream",
     "text": [
      "==================================================================\n",
      "編號: 10 金融欄位:  other\n"
     ]
    },
    {
     "data": {
      "image/png": "[encoded data removed]",
      "text/plain": [
       "<Figure size 432x288 with 1 Axes>"
      ]
     },
     "metadata": {
      "needs_background": "light"
     },
     "output_type": "display_data"
    },
    {
     "name": "stdout",
     "output_type": "stream",
     "text": [
      "==================================================================\n",
      "編號: 11 金融欄位:  long_term_incentive\n"
     ]
    },
    {
     "data": {
      "image/png": "[encoded data removed]",
      "text/plain": [
       "<Figure size 432x288 with 1 Axes>"
      ]
     },
     "metadata": {
      "needs_background": "light"
     },
     "output_type": "display_data"
    },
    {
     "name": "stdout",
     "output_type": "stream",
     "text": [
      "==================================================================\n",
      "編號: 12 金融欄位:  restricted_stock\n"
     ]
    },
    {
     "data": {
      "image/png": "[encoded data removed]",
      "text/plain": [
       "<Figure size 432x288 with 1 Axes>"
      ]
     },
     "metadata": {
      "needs_background": "light"
     },
     "output_type": "display_data"
    },
    {
     "name": "stdout",
     "output_type": "stream",
     "text": [
      "==================================================================\n",
      "編號: 13 金融欄位:  director_fees\n"
     ]
    },
    {
     "data": {
      "image/png": "[encoded data removed]",
      "text/plain": [
       "<Figure size 432x288 with 1 Axes>"
      ]
     },
     "metadata": {
      "needs_background": "light"
     },
     "output_type": "display_data"
    },
    {
     "name": "stdout",
     "output_type": "stream",
     "text": [
      "==================================================================\n"
     ]
    }
   ],
   "source": [
    "# 設定財務相關欄位\n",
    "Finance_column = ['salary', 'deferral_payments', 'total_payments', 'loan_advances', 'bonus', 'restricted_stock_deferred', 'deferred_income', 'total_stock_value', 'expenses', 'exercised_stock_options', 'other', 'long_term_incentive', 'restricted_stock', 'director_fees'] \n",
    "\n",
    "for i, Finname in enumerate(Finance_column):\n",
    "    print(\"編號:\", i,\"金融欄位: \",Finname)\n",
    "    plt.title(str(Finname))\n",
    "    plt.hist(df_train[Finname])\n",
    "    plt.show()\n",
    "    print(\"==================================================================\")"
   ]
  },
  {
   "cell_type": "markdown",
   "metadata": {},
   "source": [
    "## 金融欄位\n",
    "### 特殊欄位(有可能有離群值)\n",
    "經由上面圖表觀察發現稍有特殊的欄位，有可能有離群值的存在\n",
    "\n",
    "- total_payments\n",
    "反映根據公司績效支付的年度現金獎勵。 還可能包括其他保留金。\n",
    "- loan_advances\n",
    "反映債務人為償還諾言而提供的預付款總額（不包括償還）。 在某些情況下，期票的條款允許選擇用公司股票還款。\n",
    "- other \n",
    "- 反映了諸如嚴重性支付，諮詢服務，搬遷成本，預支稅款和為國際任務分配給僱員的津貼（例如，住房津貼，生活津貼，根據安然稅收均等計劃支付的款項等）等項目。 也可能包括與僱傭協議有關的付款，以及使用公務機之類的估算收入金額。\n",
    "\n",
    "*******************************************************"
   ]
  },
  {
   "cell_type": "code",
   "execution_count": 5,
   "metadata": {},
   "outputs": [
    {
     "name": "stdout",
     "output_type": "stream",
     "text": [
      "The non-anomalies default on 12.63% of loans\n",
      "The anomalies default on 100.00% of loans\n",
      "There are 1 anomalous days of employment\n"
     ]
    }
   ],
   "source": [
    "anom_topay = df_train[df_train['total_payments'] >= 0.8e8]\n",
    "non_topay = df_train[df_train[\"total_payments\"] < 0.8e8]\n",
    "print('The non-anomalies default on %0.2f%% of loans' % (100 * non_topay['poi'].mean()))\n",
    "print('The anomalies default on %0.2f%% of loans' % (100 * anom_topay['poi'].mean()))\n",
    "print('There are %d anomalous days of employment' % len(anom_topay))"
   ]
  },
  {
   "cell_type": "code",
   "execution_count": 6,
   "metadata": {},
   "outputs": [
    {
     "data": {
      "text/plain": [
       "0.008849557522123894"
      ]
     },
     "execution_count": 6,
     "metadata": {},
     "output_type": "execute_result"
    }
   ],
   "source": [
    "sum(df_train[\"total_payments\"] >= 0.8e8)/len(df_train)"
   ]
  },
  {
   "cell_type": "code",
   "execution_count": 7,
   "metadata": {},
   "outputs": [
    {
     "name": "stdout",
     "output_type": "stream",
     "text": [
      "The non-anomalies default on 0.00% of loans\n",
      "The anomalies default on 100.00% of loans\n",
      "There are 1 anomalous days of employment\n"
     ]
    }
   ],
   "source": [
    "anom_topay = df_train[df_train['loan_advances'] >= 1e7]\n",
    "non_topay = df_train[df_train[\"loan_advances\"] < 1e7]\n",
    "print('The non-anomalies default on %0.2f%% of loans' % (100 * non_topay['poi'].mean()))\n",
    "print('The anomalies default on %0.2f%% of loans' % (100 * anom_topay['poi'].mean()))\n",
    "print('There are %d anomalous days of employment' % len(anom_topay))"
   ]
  },
  {
   "cell_type": "code",
   "execution_count": 8,
   "metadata": {},
   "outputs": [
    {
     "data": {
      "text/plain": [
       "0.008849557522123894"
      ]
     },
     "execution_count": 8,
     "metadata": {},
     "output_type": "execute_result"
    }
   ],
   "source": [
    "sum(df_train[\"loan_advances\"] >= 1e7)/len(df_train)"
   ]
  },
  {
   "cell_type": "code",
   "execution_count": 9,
   "metadata": {},
   "outputs": [
    {
     "name": "stdout",
     "output_type": "stream",
     "text": [
      "The non-anomalies default on 17.65% of loans\n",
      "The anomalies default on 100.00% of loans\n",
      "There are 1 anomalous days of employment\n"
     ]
    }
   ],
   "source": [
    "anom_topay = df_train[df_train['other'] >= 1e7]\n",
    "non_topay = df_train[df_train[\"other\"] < 1e7]\n",
    "print('The non-anomalies default on %0.2f%% of loans' % (100 * non_topay['poi'].mean()))\n",
    "print('The anomalies default on %0.2f%% of loans' % (100 * anom_topay['poi'].mean()))\n",
    "print('There are %d anomalous days of employment' % len(anom_topay))"
   ]
  },
  {
   "cell_type": "code",
   "execution_count": 10,
   "metadata": {},
   "outputs": [
    {
     "data": {
      "text/plain": [
       "0.008849557522123894"
      ]
     },
     "execution_count": 10,
     "metadata": {},
     "output_type": "execute_result"
    }
   ],
   "source": [
    "sum(df_train['other'] >= 1e7)/len(df_train)"
   ]
  },
  {
   "cell_type": "markdown",
   "metadata": {},
   "source": [
    "# 離群值測試結果\n",
    "-經由上述測試結果發現三個財金相關欄位\"total_payments\"、\"loan_advances\"與\"other\"的值有可能屬於正常資料。"
   ]
  },
  {
   "cell_type": "code",
   "execution_count": 11,
   "metadata": {},
   "outputs": [
    {
     "data": {
      "text/html": [
       "<div>\n",
       "<style scoped>\n",
       "    .dataframe tbody tr th:only-of-type {\n",
       "        vertical-align: middle;\n",
       "    }\n",
       "\n",
       "    .dataframe tbody tr th {\n",
       "        vertical-align: top;\n",
       "    }\n",
       "\n",
       "    .dataframe thead th {\n",
       "        text-align: right;\n",
       "    }\n",
       "</style>\n",
       "<table border=\"1\" class=\"dataframe\">\n",
       "  <thead>\n",
       "    <tr style=\"text-align: right;\">\n",
       "      <th></th>\n",
       "      <th>bonus</th>\n",
       "      <th>deferral_payments</th>\n",
       "      <th>deferred_income</th>\n",
       "      <th>director_fees</th>\n",
       "      <th>exercised_stock_options</th>\n",
       "      <th>expenses</th>\n",
       "      <th>from_messages</th>\n",
       "      <th>from_poi_to_this_person</th>\n",
       "      <th>from_this_person_to_poi</th>\n",
       "      <th>loan_advances</th>\n",
       "      <th>long_term_incentive</th>\n",
       "      <th>other</th>\n",
       "      <th>restricted_stock</th>\n",
       "      <th>restricted_stock_deferred</th>\n",
       "      <th>salary</th>\n",
       "      <th>shared_receipt_with_poi</th>\n",
       "      <th>to_messages</th>\n",
       "      <th>total_payments</th>\n",
       "      <th>total_stock_value</th>\n",
       "    </tr>\n",
       "  </thead>\n",
       "  <tbody>\n",
       "    <tr>\n",
       "      <th>0</th>\n",
       "      <td>1750000.0</td>\n",
       "      <td>NaN</td>\n",
       "      <td>-3504386.0</td>\n",
       "      <td>NaN</td>\n",
       "      <td>19794175.0</td>\n",
       "      <td>46950.0</td>\n",
       "      <td>18.0</td>\n",
       "      <td>42.0</td>\n",
       "      <td>4.0</td>\n",
       "      <td>NaN</td>\n",
       "      <td>1617011.0</td>\n",
       "      <td>174839.0</td>\n",
       "      <td>2748364.0</td>\n",
       "      <td>NaN</td>\n",
       "      <td>420636.0</td>\n",
       "      <td>864.0</td>\n",
       "      <td>905.0</td>\n",
       "      <td>505050.0</td>\n",
       "      <td>22542539.0</td>\n",
       "    </tr>\n",
       "    <tr>\n",
       "      <th>1</th>\n",
       "      <td>5600000.0</td>\n",
       "      <td>NaN</td>\n",
       "      <td>NaN</td>\n",
       "      <td>NaN</td>\n",
       "      <td>19250000.0</td>\n",
       "      <td>29336.0</td>\n",
       "      <td>108.0</td>\n",
       "      <td>88.0</td>\n",
       "      <td>30.0</td>\n",
       "      <td>NaN</td>\n",
       "      <td>1920000.0</td>\n",
       "      <td>22122.0</td>\n",
       "      <td>6843672.0</td>\n",
       "      <td>NaN</td>\n",
       "      <td>1111258.0</td>\n",
       "      <td>2042.0</td>\n",
       "      <td>3627.0</td>\n",
       "      <td>8682716.0</td>\n",
       "      <td>26093672.0</td>\n",
       "    </tr>\n",
       "    <tr>\n",
       "      <th>2</th>\n",
       "      <td>200000.0</td>\n",
       "      <td>NaN</td>\n",
       "      <td>-4167.0</td>\n",
       "      <td>NaN</td>\n",
       "      <td>1624396.0</td>\n",
       "      <td>22884.0</td>\n",
       "      <td>39.0</td>\n",
       "      <td>13.0</td>\n",
       "      <td>14.0</td>\n",
       "      <td>NaN</td>\n",
       "      <td>NaN</td>\n",
       "      <td>1573324.0</td>\n",
       "      <td>869220.0</td>\n",
       "      <td>NaN</td>\n",
       "      <td>211844.0</td>\n",
       "      <td>91.0</td>\n",
       "      <td>225.0</td>\n",
       "      <td>2003885.0</td>\n",
       "      <td>2493616.0</td>\n",
       "    </tr>\n",
       "    <tr>\n",
       "      <th>3</th>\n",
       "      <td>800000.0</td>\n",
       "      <td>NaN</td>\n",
       "      <td>NaN</td>\n",
       "      <td>NaN</td>\n",
       "      <td>NaN</td>\n",
       "      <td>118134.0</td>\n",
       "      <td>NaN</td>\n",
       "      <td>NaN</td>\n",
       "      <td>NaN</td>\n",
       "      <td>NaN</td>\n",
       "      <td>602671.0</td>\n",
       "      <td>907502.0</td>\n",
       "      <td>985032.0</td>\n",
       "      <td>NaN</td>\n",
       "      <td>224305.0</td>\n",
       "      <td>NaN</td>\n",
       "      <td>NaN</td>\n",
       "      <td>2652612.0</td>\n",
       "      <td>985032.0</td>\n",
       "    </tr>\n",
       "    <tr>\n",
       "      <th>4</th>\n",
       "      <td>1250000.0</td>\n",
       "      <td>NaN</td>\n",
       "      <td>-262500.0</td>\n",
       "      <td>NaN</td>\n",
       "      <td>NaN</td>\n",
       "      <td>35818.0</td>\n",
       "      <td>144.0</td>\n",
       "      <td>199.0</td>\n",
       "      <td>25.0</td>\n",
       "      <td>NaN</td>\n",
       "      <td>375304.0</td>\n",
       "      <td>486.0</td>\n",
       "      <td>126027.0</td>\n",
       "      <td>NaN</td>\n",
       "      <td>240189.0</td>\n",
       "      <td>2188.0</td>\n",
       "      <td>2598.0</td>\n",
       "      <td>1639297.0</td>\n",
       "      <td>126027.0</td>\n",
       "    </tr>\n",
       "  </tbody>\n",
       "</table>\n",
       "</div>"
      ],
      "text/plain": [
       "       bonus  deferral_payments  deferred_income  director_fees  \\\n",
       "0  1750000.0                NaN       -3504386.0            NaN   \n",
       "1  5600000.0                NaN              NaN            NaN   \n",
       "2   200000.0                NaN          -4167.0            NaN   \n",
       "3   800000.0                NaN              NaN            NaN   \n",
       "4  1250000.0                NaN        -262500.0            NaN   \n",
       "\n",
       "   exercised_stock_options  expenses  from_messages  from_poi_to_this_person  \\\n",
       "0               19794175.0   46950.0           18.0                     42.0   \n",
       "1               19250000.0   29336.0          108.0                     88.0   \n",
       "2                1624396.0   22884.0           39.0                     13.0   \n",
       "3                      NaN  118134.0            NaN                      NaN   \n",
       "4                      NaN   35818.0          144.0                    199.0   \n",
       "\n",
       "   from_this_person_to_poi  loan_advances  long_term_incentive      other  \\\n",
       "0                      4.0            NaN            1617011.0   174839.0   \n",
       "1                     30.0            NaN            1920000.0    22122.0   \n",
       "2                     14.0            NaN                  NaN  1573324.0   \n",
       "3                      NaN            NaN             602671.0   907502.0   \n",
       "4                     25.0            NaN             375304.0      486.0   \n",
       "\n",
       "   restricted_stock  restricted_stock_deferred     salary  \\\n",
       "0         2748364.0                        NaN   420636.0   \n",
       "1         6843672.0                        NaN  1111258.0   \n",
       "2          869220.0                        NaN   211844.0   \n",
       "3          985032.0                        NaN   224305.0   \n",
       "4          126027.0                        NaN   240189.0   \n",
       "\n",
       "   shared_receipt_with_poi  to_messages  total_payments  total_stock_value  \n",
       "0                    864.0        905.0        505050.0         22542539.0  \n",
       "1                   2042.0       3627.0       8682716.0         26093672.0  \n",
       "2                     91.0        225.0       2003885.0          2493616.0  \n",
       "3                      NaN          NaN       2652612.0           985032.0  \n",
       "4                   2188.0       2598.0       1639297.0           126027.0  "
      ]
     },
     "execution_count": 11,
     "metadata": {},
     "output_type": "execute_result"
    }
   ],
   "source": [
    "train_Y = df_train['poi']\n",
    "names = df_test['name']\n",
    "\n",
    "# 移除\"name\"、\"email_address\"與\"poi\"欄位資料\n",
    "df_train = df_train.drop(['name', 'email_address', 'poi'] , axis=1)\n",
    "df_test = df_test.drop(['name', 'email_address'] , axis=1)\n",
    "\n",
    "\n",
    "# 進行訓練資料與測試資料的合併\n",
    "df = pd.concat([df_train,df_test])\n",
    "\n",
    "df.head()"
   ]
  },
  {
   "cell_type": "code",
   "execution_count": 12,
   "metadata": {},
   "outputs": [
    {
     "data": {
      "text/html": [
       "<div>\n",
       "<style scoped>\n",
       "    .dataframe tbody tr th:only-of-type {\n",
       "        vertical-align: middle;\n",
       "    }\n",
       "\n",
       "    .dataframe tbody tr th {\n",
       "        vertical-align: top;\n",
       "    }\n",
       "\n",
       "    .dataframe thead th {\n",
       "        text-align: right;\n",
       "    }\n",
       "</style>\n",
       "<table border=\"1\" class=\"dataframe\">\n",
       "  <thead>\n",
       "    <tr style=\"text-align: right;\">\n",
       "      <th></th>\n",
       "      <th>Missing Ratio</th>\n",
       "    </tr>\n",
       "  </thead>\n",
       "  <tbody>\n",
       "    <tr>\n",
       "      <th>loan_advances</th>\n",
       "      <td>97.260274</td>\n",
       "    </tr>\n",
       "    <tr>\n",
       "      <th>director_fees</th>\n",
       "      <td>88.356164</td>\n",
       "    </tr>\n",
       "    <tr>\n",
       "      <th>restricted_stock_deferred</th>\n",
       "      <td>87.671233</td>\n",
       "    </tr>\n",
       "    <tr>\n",
       "      <th>deferral_payments</th>\n",
       "      <td>73.287671</td>\n",
       "    </tr>\n",
       "    <tr>\n",
       "      <th>deferred_income</th>\n",
       "      <td>66.438356</td>\n",
       "    </tr>\n",
       "    <tr>\n",
       "      <th>long_term_incentive</th>\n",
       "      <td>54.794521</td>\n",
       "    </tr>\n",
       "    <tr>\n",
       "      <th>bonus</th>\n",
       "      <td>43.835616</td>\n",
       "    </tr>\n",
       "    <tr>\n",
       "      <th>from_this_person_to_poi</th>\n",
       "      <td>41.095890</td>\n",
       "    </tr>\n",
       "    <tr>\n",
       "      <th>from_poi_to_this_person</th>\n",
       "      <td>41.095890</td>\n",
       "    </tr>\n",
       "    <tr>\n",
       "      <th>from_messages</th>\n",
       "      <td>41.095890</td>\n",
       "    </tr>\n",
       "  </tbody>\n",
       "</table>\n",
       "</div>"
      ],
      "text/plain": [
       "                           Missing Ratio\n",
       "loan_advances                  97.260274\n",
       "director_fees                  88.356164\n",
       "restricted_stock_deferred      87.671233\n",
       "deferral_payments              73.287671\n",
       "deferred_income                66.438356\n",
       "long_term_incentive            54.794521\n",
       "bonus                          43.835616\n",
       "from_this_person_to_poi        41.095890\n",
       "from_poi_to_this_person        41.095890\n",
       "from_messages                  41.095890"
      ]
     },
     "metadata": {},
     "output_type": "display_data"
    }
   ],
   "source": [
    "# 檢查 DataFrame 空缺值的狀態\n",
    "def na_check(df_data):\n",
    "    data_na = (df_data.isnull().sum() / len(df_data)) * 100\n",
    "    data_na = data_na.drop(data_na[data_na == 0].index).sort_values(ascending=False)\n",
    "    missing_data = pd.DataFrame({'Missing Ratio' :data_na})\n",
    "    display(missing_data.head(10))\n",
    "na_check(df)"
   ]
  },
  {
   "cell_type": "code",
   "execution_count": 13,
   "metadata": {},
   "outputs": [],
   "source": [
    "# 部分欄位缺值填補 0\n",
    "zero_cols = ['salary', 'deferral_payments', 'total_payments', 'loan_advances', 'bonus', 'restricted_stock_deferred', 'deferred_income', 'total_stock_value', 'expenses', 'exercised_stock_options', 'other', 'long_term_incentive', 'restricted_stock', 'director_fees'] \n",
    "             \n",
    "for col in zero_cols:\n",
    "    df[col] = df[col].fillna(0) # df.fillna(0)所有缺失值字段填充爲0\n",
    "    \n",
    "# 部分欄位缺值填補平均值\n",
    "mode_cols = ['to_messages','from_messages','from_poi_to_this_person','from_this_person_to_poi','shared_receipt_with_poi']\n",
    "for col in mode_cols:\n",
    "    df[col] = df[col].fillna(df[col].mean()) # df.fillna(df[col].mean())所有缺失值字段填充爲平均數"
   ]
  },
  {
   "cell_type": "code",
   "execution_count": 14,
   "metadata": {},
   "outputs": [
    {
     "data": {
      "text/html": [
       "<div>\n",
       "<style scoped>\n",
       "    .dataframe tbody tr th:only-of-type {\n",
       "        vertical-align: middle;\n",
       "    }\n",
       "\n",
       "    .dataframe tbody tr th {\n",
       "        vertical-align: top;\n",
       "    }\n",
       "\n",
       "    .dataframe thead th {\n",
       "        text-align: right;\n",
       "    }\n",
       "</style>\n",
       "<table border=\"1\" class=\"dataframe\">\n",
       "  <thead>\n",
       "    <tr style=\"text-align: right;\">\n",
       "      <th></th>\n",
       "      <th>Missing Ratio</th>\n",
       "    </tr>\n",
       "  </thead>\n",
       "  <tbody>\n",
       "  </tbody>\n",
       "</table>\n",
       "</div>"
      ],
      "text/plain": [
       "Empty DataFrame\n",
       "Columns: [Missing Ratio]\n",
       "Index: []"
      ]
     },
     "metadata": {},
     "output_type": "display_data"
    }
   ],
   "source": [
    "# 做完各種補缺值, 確認一下有沒有遺漏\n",
    "na_check(df)"
   ]
  },
  {
   "cell_type": "code",
   "execution_count": 15,
   "metadata": {},
   "outputs": [],
   "source": [
    "# Remove the outlier individuals\n",
    "# df.drop(inplace=True)：不創建新的對象，直接對原始對象進行修改；\n",
    "# df.drop(axis=0, labels=[20,6,58],inplace=True)\n",
    "\n",
    "#添加的新的電子郵件的功能的數據集\n",
    "df['to_poi_ratio'] = df['from_poi_to_this_person'] / df['to_messages'] \n",
    "df['from_poi_ratio'] = df['from_this_person_to_poi'] / df ['from_messages'] \n",
    "df['shared_poi_ratio'] = df['shared_receipt_with_poi'] / df['to_messages']\n",
    "\n",
    "#創造新的財務特徵並加入到數據集中\n",
    "df['bonus_to_salary'] = df['bonus'] / df['salary'] \n",
    "df['bonus_to_total'] = df['bonus'] / df['total_payments' ]\n",
    "\n",
    "# 部分欄位缺值填補 0\n",
    "zero_cols = ['bonus_to_salary','bonus_to_total']\n",
    "           \n",
    "for col in zero_cols:\n",
    "    df[col] =df[col].fillna(0) #df.fillna(0)所有缺失值字段填充爲0"
   ]
  },
  {
   "cell_type": "code",
   "execution_count": 16,
   "metadata": {},
   "outputs": [
    {
     "data": {
      "text/html": [
       "<div>\n",
       "<style scoped>\n",
       "    .dataframe tbody tr th:only-of-type {\n",
       "        vertical-align: middle;\n",
       "    }\n",
       "\n",
       "    .dataframe tbody tr th {\n",
       "        vertical-align: top;\n",
       "    }\n",
       "\n",
       "    .dataframe thead th {\n",
       "        text-align: right;\n",
       "    }\n",
       "</style>\n",
       "<table border=\"1\" class=\"dataframe\">\n",
       "  <thead>\n",
       "    <tr style=\"text-align: right;\">\n",
       "      <th></th>\n",
       "      <th>Missing Ratio</th>\n",
       "    </tr>\n",
       "  </thead>\n",
       "  <tbody>\n",
       "  </tbody>\n",
       "</table>\n",
       "</div>"
      ],
      "text/plain": [
       "Empty DataFrame\n",
       "Columns: [Missing Ratio]\n",
       "Index: []"
      ]
     },
     "metadata": {},
     "output_type": "display_data"
    },
    {
     "data": {
      "text/html": [
       "<div>\n",
       "<style scoped>\n",
       "    .dataframe tbody tr th:only-of-type {\n",
       "        vertical-align: middle;\n",
       "    }\n",
       "\n",
       "    .dataframe tbody tr th {\n",
       "        vertical-align: top;\n",
       "    }\n",
       "\n",
       "    .dataframe thead th {\n",
       "        text-align: right;\n",
       "    }\n",
       "</style>\n",
       "<table border=\"1\" class=\"dataframe\">\n",
       "  <thead>\n",
       "    <tr style=\"text-align: right;\">\n",
       "      <th></th>\n",
       "      <th>bonus</th>\n",
       "      <th>deferral_payments</th>\n",
       "      <th>deferred_income</th>\n",
       "      <th>director_fees</th>\n",
       "      <th>exercised_stock_options</th>\n",
       "      <th>expenses</th>\n",
       "      <th>from_messages</th>\n",
       "      <th>from_poi_to_this_person</th>\n",
       "      <th>from_this_person_to_poi</th>\n",
       "      <th>loan_advances</th>\n",
       "      <th>...</th>\n",
       "      <th>salary</th>\n",
       "      <th>shared_receipt_with_poi</th>\n",
       "      <th>to_messages</th>\n",
       "      <th>total_payments</th>\n",
       "      <th>total_stock_value</th>\n",
       "      <th>to_poi_ratio</th>\n",
       "      <th>from_poi_ratio</th>\n",
       "      <th>shared_poi_ratio</th>\n",
       "      <th>bonus_to_salary</th>\n",
       "      <th>bonus_to_total</th>\n",
       "    </tr>\n",
       "  </thead>\n",
       "  <tbody>\n",
       "    <tr>\n",
       "      <th>0</th>\n",
       "      <td>1750000.0</td>\n",
       "      <td>0.0</td>\n",
       "      <td>-3504386.0</td>\n",
       "      <td>0.0</td>\n",
       "      <td>19794175.0</td>\n",
       "      <td>46950.0</td>\n",
       "      <td>18.000000</td>\n",
       "      <td>42.000000</td>\n",
       "      <td>4.000000</td>\n",
       "      <td>0.0</td>\n",
       "      <td>...</td>\n",
       "      <td>420636.0</td>\n",
       "      <td>864.000000</td>\n",
       "      <td>905.000000</td>\n",
       "      <td>505050.0</td>\n",
       "      <td>22542539.0</td>\n",
       "      <td>0.046409</td>\n",
       "      <td>0.222222</td>\n",
       "      <td>0.954696</td>\n",
       "      <td>4.160367</td>\n",
       "      <td>3.465003</td>\n",
       "    </tr>\n",
       "    <tr>\n",
       "      <th>1</th>\n",
       "      <td>5600000.0</td>\n",
       "      <td>0.0</td>\n",
       "      <td>0.0</td>\n",
       "      <td>0.0</td>\n",
       "      <td>19250000.0</td>\n",
       "      <td>29336.0</td>\n",
       "      <td>108.000000</td>\n",
       "      <td>88.000000</td>\n",
       "      <td>30.000000</td>\n",
       "      <td>0.0</td>\n",
       "      <td>...</td>\n",
       "      <td>1111258.0</td>\n",
       "      <td>2042.000000</td>\n",
       "      <td>3627.000000</td>\n",
       "      <td>8682716.0</td>\n",
       "      <td>26093672.0</td>\n",
       "      <td>0.024262</td>\n",
       "      <td>0.277778</td>\n",
       "      <td>0.563000</td>\n",
       "      <td>5.039334</td>\n",
       "      <td>0.644959</td>\n",
       "    </tr>\n",
       "    <tr>\n",
       "      <th>2</th>\n",
       "      <td>200000.0</td>\n",
       "      <td>0.0</td>\n",
       "      <td>-4167.0</td>\n",
       "      <td>0.0</td>\n",
       "      <td>1624396.0</td>\n",
       "      <td>22884.0</td>\n",
       "      <td>39.000000</td>\n",
       "      <td>13.000000</td>\n",
       "      <td>14.000000</td>\n",
       "      <td>0.0</td>\n",
       "      <td>...</td>\n",
       "      <td>211844.0</td>\n",
       "      <td>91.000000</td>\n",
       "      <td>225.000000</td>\n",
       "      <td>2003885.0</td>\n",
       "      <td>2493616.0</td>\n",
       "      <td>0.057778</td>\n",
       "      <td>0.358974</td>\n",
       "      <td>0.404444</td>\n",
       "      <td>0.944091</td>\n",
       "      <td>0.099806</td>\n",
       "    </tr>\n",
       "    <tr>\n",
       "      <th>3</th>\n",
       "      <td>800000.0</td>\n",
       "      <td>0.0</td>\n",
       "      <td>0.0</td>\n",
       "      <td>0.0</td>\n",
       "      <td>0.0</td>\n",
       "      <td>118134.0</td>\n",
       "      <td>608.790698</td>\n",
       "      <td>64.895349</td>\n",
       "      <td>41.232558</td>\n",
       "      <td>0.0</td>\n",
       "      <td>...</td>\n",
       "      <td>224305.0</td>\n",
       "      <td>1176.465116</td>\n",
       "      <td>2073.860465</td>\n",
       "      <td>2652612.0</td>\n",
       "      <td>985032.0</td>\n",
       "      <td>0.031292</td>\n",
       "      <td>0.067729</td>\n",
       "      <td>0.567283</td>\n",
       "      <td>3.566572</td>\n",
       "      <td>0.301590</td>\n",
       "    </tr>\n",
       "    <tr>\n",
       "      <th>4</th>\n",
       "      <td>1250000.0</td>\n",
       "      <td>0.0</td>\n",
       "      <td>-262500.0</td>\n",
       "      <td>0.0</td>\n",
       "      <td>0.0</td>\n",
       "      <td>35818.0</td>\n",
       "      <td>144.000000</td>\n",
       "      <td>199.000000</td>\n",
       "      <td>25.000000</td>\n",
       "      <td>0.0</td>\n",
       "      <td>...</td>\n",
       "      <td>240189.0</td>\n",
       "      <td>2188.000000</td>\n",
       "      <td>2598.000000</td>\n",
       "      <td>1639297.0</td>\n",
       "      <td>126027.0</td>\n",
       "      <td>0.076597</td>\n",
       "      <td>0.173611</td>\n",
       "      <td>0.842186</td>\n",
       "      <td>5.204235</td>\n",
       "      <td>0.762522</td>\n",
       "    </tr>\n",
       "  </tbody>\n",
       "</table>\n",
       "<p>5 rows × 24 columns</p>\n",
       "</div>"
      ],
      "text/plain": [
       "       bonus  deferral_payments  deferred_income  director_fees  \\\n",
       "0  1750000.0                0.0       -3504386.0            0.0   \n",
       "1  5600000.0                0.0              0.0            0.0   \n",
       "2   200000.0                0.0          -4167.0            0.0   \n",
       "3   800000.0                0.0              0.0            0.0   \n",
       "4  1250000.0                0.0        -262500.0            0.0   \n",
       "\n",
       "   exercised_stock_options  expenses  from_messages  from_poi_to_this_person  \\\n",
       "0               19794175.0   46950.0      18.000000                42.000000   \n",
       "1               19250000.0   29336.0     108.000000                88.000000   \n",
       "2                1624396.0   22884.0      39.000000                13.000000   \n",
       "3                      0.0  118134.0     608.790698                64.895349   \n",
       "4                      0.0   35818.0     144.000000               199.000000   \n",
       "\n",
       "   from_this_person_to_poi  loan_advances  ...     salary  \\\n",
       "0                 4.000000            0.0  ...   420636.0   \n",
       "1                30.000000            0.0  ...  1111258.0   \n",
       "2                14.000000            0.0  ...   211844.0   \n",
       "3                41.232558            0.0  ...   224305.0   \n",
       "4                25.000000            0.0  ...   240189.0   \n",
       "\n",
       "   shared_receipt_with_poi  to_messages  total_payments  total_stock_value  \\\n",
       "0               864.000000   905.000000        505050.0         22542539.0   \n",
       "1              2042.000000  3627.000000       8682716.0         26093672.0   \n",
       "2                91.000000   225.000000       2003885.0          2493616.0   \n",
       "3              1176.465116  2073.860465       2652612.0           985032.0   \n",
       "4              2188.000000  2598.000000       1639297.0           126027.0   \n",
       "\n",
       "   to_poi_ratio  from_poi_ratio  shared_poi_ratio  bonus_to_salary  \\\n",
       "0      0.046409        0.222222          0.954696         4.160367   \n",
       "1      0.024262        0.277778          0.563000         5.039334   \n",
       "2      0.057778        0.358974          0.404444         0.944091   \n",
       "3      0.031292        0.067729          0.567283         3.566572   \n",
       "4      0.076597        0.173611          0.842186         5.204235   \n",
       "\n",
       "   bonus_to_total  \n",
       "0        3.465003  \n",
       "1        0.644959  \n",
       "2        0.099806  \n",
       "3        0.301590  \n",
       "4        0.762522  \n",
       "\n",
       "[5 rows x 24 columns]"
      ]
     },
     "execution_count": 16,
     "metadata": {},
     "output_type": "execute_result"
    }
   ],
   "source": [
    "# 檢查 DataFrame 空缺值的狀態\n",
    "na_check(df)\n",
    "df.head()"
   ]
  },
  {
   "cell_type": "code",
   "execution_count": 17,
   "metadata": {},
   "outputs": [],
   "source": [
    "# 將資料最大最小化\n",
    "# fit來學習編碼，設定最大最小化，將特徵值限制在0~1之間，transform進行編碼\n",
    "df = MinMaxScaler().fit_transform(df)\n",
    "\n",
    "# 將前述轉換完畢資料 df , 重新切成 train_X, test_X\n",
    "train_num = train_Y.shape[0]\n",
    "train_X = df[:train_num]\n",
    "test_X = df[train_num:]\n",
    "\n",
    "# 使用三種模型 : 邏輯斯迴歸 / 梯度提升機 / 隨機森林, 參數使用 Random Search 尋找\n",
    "from sklearn.linear_model import LogisticRegression\n",
    "from sklearn.ensemble import GradientBoostingClassifier, RandomForestClassifier\n",
    "# 三種模型的參數採用預設，暫時不作調整\n",
    "\n",
    "# 載入線性回歸模型\n",
    "lr = LogisticRegression()\n",
    "# 載入梯度提升機模型\n",
    "gdbt = GradientBoostingClassifier()\n",
    "# 載入隨機森林模型\n",
    "rf = RandomForestClassifier()"
   ]
  },
  {
   "cell_type": "code",
   "execution_count": 18,
   "metadata": {},
   "outputs": [
    {
     "name": "stdout",
     "output_type": "stream",
     "text": [
      "                 name       poi\n",
      "0    BELDEN TIMOTHY N  0.236062\n",
      "1  BOWEN JR RAYMOND M  0.239463\n",
      "2      HANNON KEVIN P  0.390139\n",
      "3    DELAINEY DAVID W  0.111740\n",
      "4    CAUSEY RICHARD A  0.161118\n"
     ]
    },
    {
     "data": {
      "text/plain": [
       "0.884990253411306"
      ]
     },
     "execution_count": 18,
     "metadata": {},
     "output_type": "execute_result"
    }
   ],
   "source": [
    "# 線性迴歸預測檔 (結果有部分隨機, 請以 Kaggle 計算的得分為準, 以下模型同理)\n",
    "# 訓練線性回歸模型\n",
    "lr.fit(train_X, train_Y)\n",
    "# 線性迴歸模型的預測測試集\n",
    "lr_pred = lr.predict_proba(test_X)[:,1]\n",
    "sub = pd.DataFrame({'name': names, 'poi': lr_pred})\n",
    "\n",
    "print(sub.head())\n",
    "# 進行交叉焓驗證，並計算交叉驗證的平均值\n",
    "cross_val_score(lr, train_X, train_Y, cv=6).mean() # cv參數用於規定將原始數據分成多少份"
   ]
  },
  {
   "cell_type": "code",
   "execution_count": 19,
   "metadata": {},
   "outputs": [
    {
     "name": "stdout",
     "output_type": "stream",
     "text": [
      "                 name       poi\n",
      "0    BELDEN TIMOTHY N  0.144051\n",
      "1  BOWEN JR RAYMOND M  0.862453\n",
      "2      HANNON KEVIN P  0.987165\n",
      "3    DELAINEY DAVID W  0.024493\n",
      "4    CAUSEY RICHARD A  0.017433\n"
     ]
    },
    {
     "data": {
      "text/plain": [
       "0.8148148148148149"
      ]
     },
     "execution_count": 19,
     "metadata": {},
     "output_type": "execute_result"
    }
   ],
   "source": [
    "# 梯度提升機預測檔 \n",
    "# 訓練梯度提升機模型\n",
    "gdbt.fit(train_X, train_Y)\n",
    "# 梯度提升機模型的預測測試集\n",
    "gdbt_pred = gdbt.predict_proba(test_X)[:,1]\n",
    "sub = pd.DataFrame({'name': names, 'poi': gdbt_pred})\n",
    "print(sub.head())\n",
    "# 進行交叉焓驗證，並計算交叉驗證的平均值\n",
    "cross_val_score(gdbt, train_X, train_Y, cv=6).mean() # cv參數用於規定將原始數據分成多少份"
   ]
  },
  {
   "cell_type": "code",
   "execution_count": 20,
   "metadata": {},
   "outputs": [
    {
     "name": "stdout",
     "output_type": "stream",
     "text": [
      "                 name   poi\n",
      "0    BELDEN TIMOTHY N  0.35\n",
      "1  BOWEN JR RAYMOND M  0.44\n",
      "2      HANNON KEVIN P  0.57\n",
      "3    DELAINEY DAVID W  0.11\n",
      "4    CAUSEY RICHARD A  0.37\n"
     ]
    },
    {
     "data": {
      "text/plain": [
       "0.884990253411306"
      ]
     },
     "execution_count": 20,
     "metadata": {},
     "output_type": "execute_result"
    }
   ],
   "source": [
    "# 隨機森林預測檔\n",
    "# 訓練隨機森林模型\n",
    "rf.fit(train_X, train_Y)\n",
    "# 隨機森林模型的預測測試集\n",
    "rf_pred = rf.predict_proba(test_X)[:,1]\n",
    "sub = pd.DataFrame({'name': names, 'poi': rf_pred})\n",
    "print(sub.head())\n",
    "# 進行交叉焓驗證，並計算交叉驗證的平均值\n",
    "cross_val_score(rf, train_X, train_Y, cv=6).mean() # cv參數用於規定將原始數據分成多少份"
   ]
  },
  {
   "cell_type": "code",
   "execution_count": 21,
   "metadata": {},
   "outputs": [],
   "source": [
    "# 混合泛化預測檔\n",
    "blending_pred = (lr_pred * 0.3325 + gdbt_pred * 0.05 + rf_pred * 0.6175) \n",
    "\n",
    "sub = pd.DataFrame({'name': names, 'poi': blending_pred})\n",
    "sub.to_csv('default.csv', index=False)"
   ]
  },
  {
   "cell_type": "code",
   "execution_count": null,
   "metadata": {},
   "outputs": [],
   "source": []
  }
 ],
 "metadata": {
  "celltoolbar": "Slideshow",
  "kernelspec": {
   "display_name": "Python 3",
   "language": "python",
   "name": "python3"
  },
  "language_info": {
   "codemirror_mode": {
    "name": "ipython",
    "version": 3
   },
   "file_extension": ".py",
   "mimetype": "text/x-python",
   "name": "python",
   "nbconvert_exporter": "python",
   "pygments_lexer": "ipython3",
   "version": "3.7.6"
  }
 },
 "nbformat": 4,
 "nbformat_minor": 2
}
