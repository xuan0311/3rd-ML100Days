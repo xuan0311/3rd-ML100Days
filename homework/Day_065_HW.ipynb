{
 "cells": [
  {
   "cell_type": "markdown",
   "metadata": {},
   "source": [
    "# 作業\n",
    "* 選擇分類資料集(右下)-螺旋雙臂 - 交錯六群，限定特徵只能使用前兩個，隱藏層 2 層滿 (共 8 * 2 =16 個神經元)，  \n",
    "  遞迴次數只允許跑到500次，但可以自由調整 批次大小、學習速率、啟動函數、正規化選項與參數\n",
    "* 在上述限制下，挑戰看看測試誤差 (Test Loss) 最低能到多少? 請回答你的上述幾項參數與 Test Loss 數"
   ]
  },
  {
   "cell_type": "code",
   "execution_count": 10,
   "metadata": {},
   "outputs": [
    {
     "data": {
      "text/html": [
       "<div>\n",
       "<style scoped>\n",
       "    .dataframe tbody tr th:only-of-type {\n",
       "        vertical-align: middle;\n",
       "    }\n",
       "\n",
       "    .dataframe tbody tr th {\n",
       "        vertical-align: top;\n",
       "    }\n",
       "\n",
       "    .dataframe thead th {\n",
       "        text-align: right;\n",
       "    }\n",
       "</style>\n",
       "<table border=\"1\" class=\"dataframe\">\n",
       "  <thead>\n",
       "    <tr style=\"text-align: right;\">\n",
       "      <th></th>\n",
       "      <th>Batch size</th>\n",
       "      <th>Learning rate</th>\n",
       "      <th>Activation</th>\n",
       "      <th>正規化選項</th>\n",
       "      <th>Regularization rate</th>\n",
       "      <th>Test Loss</th>\n",
       "    </tr>\n",
       "  </thead>\n",
       "  <tbody>\n",
       "    <tr>\n",
       "      <td>螺旋雙臂</td>\n",
       "      <td>2</td>\n",
       "      <td>0.01</td>\n",
       "      <td>ReLU</td>\n",
       "      <td>L1</td>\n",
       "      <td>0</td>\n",
       "      <td>0.014</td>\n",
       "    </tr>\n",
       "    <tr>\n",
       "      <td>交錯六群</td>\n",
       "      <td>2</td>\n",
       "      <td>0.03</td>\n",
       "      <td>ReLU</td>\n",
       "      <td>None</td>\n",
       "      <td>3</td>\n",
       "      <td>0.003</td>\n",
       "    </tr>\n",
       "  </tbody>\n",
       "</table>\n",
       "</div>"
      ],
      "text/plain": [
       "     Batch size  Learning rate Activation 正規化選項  Regularization rate  \\\n",
       "螺旋雙臂          2           0.01       ReLU    L1                    0   \n",
       "交錯六群          2           0.03       ReLU  None                    3   \n",
       "\n",
       "      Test Loss  \n",
       "螺旋雙臂      0.014  \n",
       "交錯六群      0.003  "
      ]
     },
     "execution_count": 10,
     "metadata": {},
     "output_type": "execute_result"
    }
   ],
   "source": [
    "import pandas as pd\n",
    "df = pd.DataFrame({\"Batch size\" : [\"2\", \"2\"],\"Learning rate\":[0.01, 0.03],\"Activation\":[\"ReLU\",\"ReLU\"],\"正規化選項\":[\"L1\",\"None\"],\"Regularization rate\":[0,3], \"Test Loss\" : [0.014, 0.003]})\n",
    "df.index=[\"螺旋雙臂\",'交錯六群']\n",
    "df"
   ]
  },
  {
   "cell_type": "markdown",
   "metadata": {
    "collapsed": true
   },
   "source": []
  }
 ],
 "metadata": {
  "kernelspec": {
   "display_name": "Python 3",
   "language": "python",
   "name": "python3"
  },
  "language_info": {
   "codemirror_mode": {
    "name": "ipython",
    "version": 3
   },
   "file_extension": ".py",
   "mimetype": "text/x-python",
   "name": "python",
   "nbconvert_exporter": "python",
   "pygments_lexer": "ipython3",
   "version": "3.7.4"
  }
 },
 "nbformat": 4,
 "nbformat_minor": 2
}
