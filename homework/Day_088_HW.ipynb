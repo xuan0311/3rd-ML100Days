{
 "cells": [
  {
   "cell_type": "markdown",
   "metadata": {},
   "source": [
    "## Work\n",
    "1. 請嘗試寫一個 callback 用來記錄各類別在訓練過程中，對驗證集的 True Positive 與 True Negative"
   ]
  },
  {
   "cell_type": "code",
   "execution_count": 3,
   "metadata": {},
   "outputs": [],
   "source": [
    "import os\n",
    "import keras\n",
    "import tensorflow as tf\n",
    "# 本範例不需使用 GPU, 將 GPU 設定為 \"無\"\n",
    "# 使用第一張 GPU 卡\n",
    "os.environ[\"CUDA_VISIBLE_DEVICES\"] = \" 0 \"\n",
    "# 只使用 60% 的 GPU 記憶體\n",
    "gpu_options = tf.GPUOptions(per_process_gpu_memory_fraction=0.6)\n",
    "sess = tf.Session(config=tf.ConfigProto(gpu_options=gpu_options))\n",
    "\n",
    "# 設定 Keras 使用的 TensorFlow Session\n",
    "tf.keras.backend.set_session(sess)"
   ]
  },
  {
   "cell_type": "code",
   "execution_count": 4,
   "metadata": {},
   "outputs": [],
   "source": [
    "train, test = keras.datasets.cifar10.load_data()"
   ]
  },
  {
   "cell_type": "code",
   "execution_count": 5,
   "metadata": {},
   "outputs": [],
   "source": [
    "## 資料前處理\n",
    "def preproc_x(x, flatten=True):\n",
    "    # 資料前處理 - 標準化\n",
    "    x = x / 255.\n",
    "    if flatten:\n",
    "        # 將資料從圖形 (RGB) 轉為向量 (Single Vector)\n",
    "        x = x.reshape((len(x), -1))\n",
    "    return x\n",
    "\n",
    "def preproc_y(y, num_classes=10):\n",
    "    if y.shape[-1] == 1:\n",
    "        # 用np_utils裡的to_categorical來做one-hot encoding的轉換：\n",
    "        y = keras.utils.to_categorical(y, num_classes)\n",
    "    return y       "
   ]
  },
  {
   "cell_type": "code",
   "execution_count": 6,
   "metadata": {},
   "outputs": [],
   "source": [
    "x_train, y_train = train\n",
    "x_test, y_test = test\n",
    "\n",
    "# Preproc the inputs\n",
    "# 資料前處理 - X 標準化\n",
    "x_train = preproc_x(x_train)\n",
    "x_test = preproc_x(x_test)\n",
    "\n",
    "# Preprc the outputs\n",
    "# 資料前處理 -Y 轉成 onehot\n",
    "y_train = preproc_y(y_train)\n",
    "y_test = preproc_y(y_test)"
   ]
  },
  {
   "cell_type": "code",
   "execution_count": 7,
   "metadata": {},
   "outputs": [],
   "source": [
    "from keras.layers import BatchNormalization\n",
    "\n",
    "\"\"\"\n",
    "建立神經網路，並加入 BN layer\n",
    "\"\"\"\n",
    "def build_mlp(input_shape, output_units=10, num_neurons=[512, 256, 128]):\n",
    "    input_layer = keras.layers.Input(input_shape)\n",
    "    \n",
    "    for i, n_units in enumerate(num_neurons):\n",
    "        if i == 0:\n",
    "            x = keras.layers.Dense(units=n_units, \n",
    "                                   activation=\"relu\", \n",
    "                                   name=\"hidden_layer\"+str(i+1))(input_layer)\n",
    "            x = BatchNormalization()(x)#加入Batch Normalization，能夠將每一層的輸入/輸出做正規化\n",
    "            '''\n",
    "            參數:\n",
    "            units=n_units: 建立有n_units個神經元的隱藏層\n",
    "            kernel_regularizer: 權重(W)正規化(或稱 正則項)函數，作用是對權重矩陣加上懲罰性函數(Penalty)，以防止過度擬合(overfit)，參見 regularizer。\n",
    "            activation='relu': 使用relu為激活函數\n",
    "            '''\n",
    "        else:\n",
    "            x = keras.layers.Dense(units=n_units, \n",
    "                                   activation=\"relu\", \n",
    "                                   name=\"hidden_layer\"+str(i+1))(x)\n",
    "            x = BatchNormalization()(x)#加入Batch Normalization，能夠將每一層的輸入/輸出做正規化\n",
    "            '''\n",
    "            參數:\n",
    "            units=n_units: 建立有n_units個神經元的隱藏層\n",
    "            kernel_regularizer: 權重(W)正規化(或稱 正則項)函數，作用是對權重矩陣加上懲罰性函數(Penalty)，以防止過度擬合(overfit)，參見 regularizer。\n",
    "            activation='relu': 使用relu為激活函數\n",
    "            '''\n",
    "    \n",
    "    out = keras.layers.Dense(units=output_units, activation=\"softmax\", name=\"output\")(x)\n",
    "    \n",
    "    model = keras.models.Model(inputs=[input_layer], outputs=[out])\n",
    "    return model"
   ]
  },
  {
   "cell_type": "code",
   "execution_count": 8,
   "metadata": {},
   "outputs": [],
   "source": [
    "## 超參數設定\n",
    "LEARNING_RATE = 1e-3 #學習率\n",
    "EPOCHS = 25 #訓練25週期，訓練集所有樣本（數據、記錄）參與訓練一次爲一個週期\n",
    "BATCH_SIZE = 1024 #訓練時每個批次的樣本數。訓練樣本數/批次樣本數 = 批次數（每個週期）\n",
    "MOMENTUM = 0.95 #動量"
   ]
  },
  {
   "cell_type": "code",
   "execution_count": 12,
   "metadata": {},
   "outputs": [],
   "source": [
    "import numpy as np\n",
    "# 載入 Callbacks\n",
    "from keras.callbacks import Callback\n",
    "\n",
    "# Record_fp_tp\n",
    "class Record_tp_tn(Callback):\n",
    "    \"\"\"Code Here\n",
    "    撰寫一個紀錄 ture positive 與 true negative 數量的 callbacks    \n",
    "    \"\"\"\n",
    "    def on_train_begin(self, epoch, logs = {}): #在訓練最開始時\n",
    "        logs = logs or {}\n",
    "        # 驗證集的 True Positive 與 True Negative\n",
    "        record_items = [\"val_auc\", \"val_fp\", \"val_fn\", \"val_tp\", \"val_tn\"]\n",
    "        for i in record_items:\n",
    "            if i not in self.params['metrics']:\n",
    "                self.params['metrics'].append(i)\n",
    "    \n",
    "    def on_epoch_end(self, epoch, logs = {}, thres=0.5): #在每個 epoch 結束時\n",
    "        logs = logs or {}\n",
    "        y_true = self.validation_data[1].argmax(axis = 1)\n",
    "        y_pred = self.model.predict(self.validation_data[0])\n",
    "        y_pred = (y_pred[:, 1] >= thres) * 1\n",
    "        # Calculate True Positive, True Negative\n",
    "        logs[\"val_tp\"] = np.sum(np.logical_and(y_pred == 1, y_true == 1)) #np.logical_and (邏輯與)\n",
    "        logs[\"val_tn\"] = np.sum(np.logical_and(y_pred == 0, y_true == 0)) #np.logical_and (邏輯與)\n",
    "        \n",
    "rec_tptn = Record_tp_tn()"
   ]
  },
  {
   "cell_type": "code",
   "execution_count": 14,
   "metadata": {
    "scrolled": false
   },
   "outputs": [
    {
     "name": "stdout",
     "output_type": "stream",
     "text": [
      "Model: \"model_3\"\n",
      "_________________________________________________________________\n",
      "Layer (type)                 Output Shape              Param #   \n",
      "=================================================================\n",
      "input_3 (InputLayer)         (None, 3072)              0         \n",
      "_________________________________________________________________\n",
      "hidden_layer1 (Dense)        (None, 512)               1573376   \n",
      "_________________________________________________________________\n",
      "batch_normalization_7 (Batch (None, 512)               2048      \n",
      "_________________________________________________________________\n",
      "hidden_layer2 (Dense)        (None, 256)               131328    \n",
      "_________________________________________________________________\n",
      "batch_normalization_8 (Batch (None, 256)               1024      \n",
      "_________________________________________________________________\n",
      "hidden_layer3 (Dense)        (None, 128)               32896     \n",
      "_________________________________________________________________\n",
      "batch_normalization_9 (Batch (None, 128)               512       \n",
      "_________________________________________________________________\n",
      "output (Dense)               (None, 10)                1290      \n",
      "=================================================================\n",
      "Total params: 1,742,474\n",
      "Trainable params: 1,740,682\n",
      "Non-trainable params: 1,792\n",
      "_________________________________________________________________\n",
      "Train on 50000 samples, validate on 10000 samples\n",
      "Epoch 1/25\n",
      "50000/50000 [==============================] - 3s 50us/step - loss: 2.2287 - accuracy: 0.2748 - val_loss: 2.1336 - val_accuracy: 0.2187\n",
      "Epoch 2/25\n",
      "50000/50000 [==============================] - 2s 38us/step - loss: 1.7393 - accuracy: 0.3972 - val_loss: 1.9820 - val_accuracy: 0.2920\n",
      "Epoch 3/25\n",
      "50000/50000 [==============================] - 2s 37us/step - loss: 1.6094 - accuracy: 0.4408 - val_loss: 1.8257 - val_accuracy: 0.3624\n",
      "Epoch 4/25\n",
      "50000/50000 [==============================] - 2s 39us/step - loss: 1.5322 - accuracy: 0.4677 - val_loss: 1.7252 - val_accuracy: 0.3946\n",
      "Epoch 5/25\n",
      "50000/50000 [==============================] - 2s 39us/step - loss: 1.4760 - accuracy: 0.4880 - val_loss: 1.6367 - val_accuracy: 0.4228\n",
      "Epoch 6/25\n",
      "50000/50000 [==============================] - 2s 41us/step - loss: 1.4298 - accuracy: 0.5002 - val_loss: 1.5849 - val_accuracy: 0.4431\n",
      "Epoch 7/25\n",
      "50000/50000 [==============================] - 2s 41us/step - loss: 1.3903 - accuracy: 0.5174 - val_loss: 1.5636 - val_accuracy: 0.4444\n",
      "Epoch 8/25\n",
      "50000/50000 [==============================] - 2s 42us/step - loss: 1.3556 - accuracy: 0.5281 - val_loss: 1.5133 - val_accuracy: 0.4631\n",
      "Epoch 9/25\n",
      "50000/50000 [==============================] - 2s 42us/step - loss: 1.3210 - accuracy: 0.5392 - val_loss: 1.4956 - val_accuracy: 0.4728\n",
      "Epoch 10/25\n",
      "50000/50000 [==============================] - 2s 38us/step - loss: 1.2912 - accuracy: 0.5511 - val_loss: 1.4889 - val_accuracy: 0.4762\n",
      "Epoch 11/25\n",
      "50000/50000 [==============================] - 2s 38us/step - loss: 1.2625 - accuracy: 0.5622 - val_loss: 1.4751 - val_accuracy: 0.4796\n",
      "Epoch 12/25\n",
      "50000/50000 [==============================] - 2s 38us/step - loss: 1.2344 - accuracy: 0.5731 - val_loss: 1.4728 - val_accuracy: 0.4812\n",
      "Epoch 13/25\n",
      "50000/50000 [==============================] - 2s 43us/step - loss: 1.2097 - accuracy: 0.5820 - val_loss: 1.4771 - val_accuracy: 0.4850\n",
      "Epoch 14/25\n",
      "50000/50000 [==============================] - 2s 38us/step - loss: 1.1852 - accuracy: 0.5917 - val_loss: 1.4555 - val_accuracy: 0.4860\n",
      "Epoch 15/25\n",
      "50000/50000 [==============================] - 2s 38us/step - loss: 1.1593 - accuracy: 0.6011 - val_loss: 1.4660 - val_accuracy: 0.4844\n",
      "Epoch 16/25\n",
      "50000/50000 [==============================] - 2s 38us/step - loss: 1.1356 - accuracy: 0.6113 - val_loss: 1.4699 - val_accuracy: 0.4802\n",
      "Epoch 17/25\n",
      "50000/50000 [==============================] - 2s 38us/step - loss: 1.1136 - accuracy: 0.6182 - val_loss: 1.4543 - val_accuracy: 0.4885\n",
      "Epoch 18/25\n",
      "50000/50000 [==============================] - 2s 37us/step - loss: 1.0898 - accuracy: 0.6278 - val_loss: 1.4499 - val_accuracy: 0.4947\n",
      "Epoch 19/25\n",
      "50000/50000 [==============================] - 2s 37us/step - loss: 1.0694 - accuracy: 0.6346 - val_loss: 1.4502 - val_accuracy: 0.4922\n",
      "Epoch 20/25\n",
      "50000/50000 [==============================] - 2s 36us/step - loss: 1.0467 - accuracy: 0.6432 - val_loss: 1.4538 - val_accuracy: 0.4881\n",
      "Epoch 21/25\n",
      "50000/50000 [==============================] - 2s 38us/step - loss: 1.0237 - accuracy: 0.6539 - val_loss: 1.4503 - val_accuracy: 0.4931\n",
      "Epoch 22/25\n",
      "50000/50000 [==============================] - 2s 37us/step - loss: 1.0018 - accuracy: 0.6610 - val_loss: 1.4607 - val_accuracy: 0.4886\n",
      "Epoch 23/25\n",
      "50000/50000 [==============================] - 2s 40us/step - loss: 0.9805 - accuracy: 0.6698 - val_loss: 1.4606 - val_accuracy: 0.4883\n",
      "Epoch 24/25\n",
      "50000/50000 [==============================] - 2s 37us/step - loss: 0.9608 - accuracy: 0.6753 - val_loss: 1.4895 - val_accuracy: 0.4920\n",
      "Epoch 25/25\n",
      "50000/50000 [==============================] - 2s 41us/step - loss: 0.9398 - accuracy: 0.6847 - val_loss: 1.4609 - val_accuracy: 0.4937\n"
     ]
    }
   ],
   "source": [
    "model = build_mlp(input_shape=x_train.shape[1:])\n",
    "model.summary()\n",
    "optimizer = keras.optimizers.SGD(lr=LEARNING_RATE, nesterov=True, momentum=MOMENTUM)\n",
    "model.compile(loss=\"categorical_crossentropy\", metrics=[\"accuracy\"], optimizer=optimizer)\n",
    "\n",
    "\"\"\"Code Here\n",
    "將 callbacks 放入模型訓練流程中\n",
    "\"\"\"\n",
    "model.fit(x_train, y_train, #訓練資料。\n",
    "          epochs=EPOCHS, #訓練EPOCHS週期，訓練集所有樣本（數據、記錄）參與訓練一次爲一個週期\n",
    "          batch_size=BATCH_SIZE, #訓練時每個批次的樣本數，訓練樣本數/批次樣本數 = 批次數（每個週期）\n",
    "          validation_data=(x_test, y_test), #驗證資料。\n",
    "          shuffle=True, #每次epochs後，將訓練集打亂順序。\n",
    "          callbacks=[rec_tptn]\n",
    "         )\n",
    "\n",
    "\n",
    "# Collect results\n",
    "'''\n",
    "History.history屬性記錄了損失函數和其他指標的數值隨epoch變化的情況，\n",
    "如果有驗證集的話，也包含了驗證集的這些指標變化情況\n",
    "'''\n",
    "train_loss = model.history.history[\"loss\"] \n",
    "valid_loss = model.history.history[\"val_loss\"]\n",
    "train_acc = model.history.history[\"accuracy\"]\n",
    "valid_acc = model.history.history[\"val_accuracy\"]\n",
    "\n",
    "\"\"\"Code Here\n",
    "將 tp/tn 從訓練完的模型中取出\n",
    "\"\"\"\n",
    "valid_tp = model.history.history['val_tp']\n",
    "valid_tn = model.history.history['val_tn']"
   ]
  },
  {
   "cell_type": "code",
   "execution_count": 15,
   "metadata": {},
   "outputs": [
    {
     "data": {
      "image/png": "[encoded data removed]",
      "text/plain": [
       "<Figure size 432x288 with 1 Axes>"
      ]
     },
     "metadata": {
      "needs_background": "light"
     },
     "output_type": "display_data"
    },
    {
     "data": {
      "image/png": "[encoded data removed]",
      "text/plain": [
       "<Figure size 432x288 with 1 Axes>"
      ]
     },
     "metadata": {
      "needs_background": "light"
     },
     "output_type": "display_data"
    },
    {
     "data": {
      "image/png": "[encoded data removed]",
      "text/plain": [
       "<Figure size 432x288 with 1 Axes>"
      ]
     },
     "metadata": {
      "needs_background": "light"
     },
     "output_type": "display_data"
    }
   ],
   "source": [
    "import matplotlib.pyplot as plt\n",
    "%matplotlib inline\n",
    "\n",
    "plt.plot(range(len(train_loss)), train_loss, label=\"train loss\")\n",
    "plt.plot(range(len(valid_loss)), valid_loss, label=\"valid loss\")\n",
    "plt.legend()\n",
    "plt.title(\"Loss\")\n",
    "plt.show()\n",
    "\n",
    "plt.plot(range(len(train_acc)), train_acc, label=\"train accuracy\")\n",
    "plt.plot(range(len(valid_acc)), valid_acc, label=\"valid accuracy\")\n",
    "plt.legend()\n",
    "plt.title(\"Accuracy\")\n",
    "plt.show()\n",
    "\n",
    "plt.plot(range(len(valid_tp)), valid_tp, label=\"valid tp\", color=\"navy\")\n",
    "plt.plot(range(len(valid_tn)), valid_tn, label=\"valid tn\", color=\"red\")\n",
    "plt.legend()\n",
    "plt.title(\"True positives and True Negatives\")\n",
    "plt.show()\n"
   ]
  },
  {
   "cell_type": "code",
   "execution_count": null,
   "metadata": {},
   "outputs": [],
   "source": []
  }
 ],
 "metadata": {
  "kernelspec": {
   "display_name": "Python 3",
   "language": "python",
   "name": "python3"
  },
  "language_info": {
   "codemirror_mode": {
    "name": "ipython",
    "version": 3
   },
   "file_extension": ".py",
   "mimetype": "text/x-python",
   "name": "python",
   "nbconvert_exporter": "python",
   "pygments_lexer": "ipython3",
   "version": "3.7.4"
  }
 },
 "nbformat": 4,
 "nbformat_minor": 2
}
