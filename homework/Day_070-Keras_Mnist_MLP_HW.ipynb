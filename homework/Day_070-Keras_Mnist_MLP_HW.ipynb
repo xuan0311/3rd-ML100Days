{
 "cells": [
  {
   "cell_type": "markdown",
   "metadata": {},
   "source": [
    "# 作業目標:¶\n",
    "利用手寫辨識資料說明MLP 中, 神經網路層的多寡跟預測結果的差異"
   ]
  },
  {
   "cell_type": "markdown",
   "metadata": {},
   "source": [
    "# 作業重點:\n",
    "[練習]請嘗試新增一層或兩層看看最後預測結果是否有差異\n",
    "model.add(Dense(units=256, input_dim=784, kernel_initializer='normal', activation='relu'))\n"
   ]
  },
  {
   "cell_type": "markdown",
   "metadata": {
    "colab_type": "text",
    "id": "zfI5zCjRPlnc"
   },
   "source": [
    "# 資料預處理"
   ]
  },
  {
   "cell_type": "code",
   "execution_count": 28,
   "metadata": {
    "colab": {
     "autoexec": {
      "startup": false,
      "wait_interval": 0
     },
     "base_uri": "https://localhost:8080/",
     "height": 34
    },
    "colab_type": "code",
    "executionInfo": {
     "elapsed": 20601,
     "status": "ok",
     "timestamp": 1533441753568,
     "user": {
      "displayName": "Edward Cheng",
      "photoUrl": "//lh4.googleusercontent.com/-ANnwjGu3IBk/AAAAAAAAAAI/AAAAAAAAAAc/qXXg6Jek9xw/s50-c-k-no/photo.jpg",
      "userId": "112554017642991017343"
     },
     "user_tz": -480
    },
    "id": "GyIQ7tpGPlnf",
    "outputId": "f3642b99-3ef2-43fe-ee42-e17b1ef50cbb"
   },
   "outputs": [],
   "source": [
    "from keras.utils import np_utils\n",
    "import numpy as np\n",
    "#設定seed讓每次需要隨機產生的資料都有相同的輸出：\n",
    "np.random.seed(10) "
   ]
  },
  {
   "cell_type": "code",
   "execution_count": 36,
   "metadata": {
    "colab": {
     "autoexec": {
      "startup": false,
      "wait_interval": 0
     },
     "base_uri": "https://localhost:8080/",
     "height": 51
    },
    "colab_type": "code",
    "executionInfo": {
     "elapsed": 5937,
     "status": "ok",
     "timestamp": 1533441759521,
     "user": {
      "displayName": "Edward Cheng",
      "photoUrl": "//lh4.googleusercontent.com/-ANnwjGu3IBk/AAAAAAAAAAI/AAAAAAAAAAc/qXXg6Jek9xw/s50-c-k-no/photo.jpg",
      "userId": "112554017642991017343"
     },
     "user_tz": -480
    },
    "id": "OLzoKlJRPlno",
    "outputId": "c75f10a4-951d-4b3b-ad5f-c8fc4dff0e96"
   },
   "outputs": [],
   "source": [
    "#載入手寫辨識的資料集\n",
    "from keras.datasets import mnist\n",
    "(x_train_image,y_train_label),\\\n",
    "(x_test_image,y_test_label)= mnist.load_data()"
   ]
  },
  {
   "cell_type": "code",
   "execution_count": 37,
   "metadata": {
    "colab": {
     "autoexec": {
      "startup": false,
      "wait_interval": 0
     }
    },
    "colab_type": "code",
    "id": "QEuQwa4nPlnu"
   },
   "outputs": [],
   "source": [
    "#指定測試集與訓練資料集\n",
    "# 原本的影像是一個2維的28x28個數值，現在要把它reshape成1維的784個數值，並以float為數字格式：\n",
    "x_Train =x_train_image.reshape(60000, 784).astype('float32')\n",
    "x_Test = x_test_image.reshape(10000, 784).astype('float32')"
   ]
  },
  {
   "cell_type": "code",
   "execution_count": 38,
   "metadata": {
    "colab": {
     "autoexec": {
      "startup": false,
      "wait_interval": 0
     }
    },
    "colab_type": "code",
    "id": "YisRq-SxPln0"
   },
   "outputs": [],
   "source": [
    "# normalize inputs from 0-255 to 0-1\n",
    "# 圖像數值原本是0到255，將數值除以255，可以使數值介於0到1\n",
    "# 以此方法將數值標準化：\n",
    "x_Train_normalize = x_Train / 255\n",
    "x_Test_normalize = x_Test / 255"
   ]
  },
  {
   "cell_type": "code",
   "execution_count": 39,
   "metadata": {
    "colab": {
     "autoexec": {
      "startup": false,
      "wait_interval": 0
     }
    },
    "colab_type": "code",
    "id": "AHtfmzpfPln4"
   },
   "outputs": [],
   "source": [
    "#把LABEL轉成NUMERICAL Categorical \n",
    "# 用np_utils裡的to_categorical來做one-hot encoding的轉換：\n",
    "y_Train_OneHot = np_utils.to_categorical(y_train_label)\n",
    "y_Test_OneHot = np_utils.to_categorical(y_test_label)"
   ]
  },
  {
   "cell_type": "markdown",
   "metadata": {
    "colab_type": "text",
    "id": "0s8PjvqJPln7"
   },
   "source": [
    "# 建立模型"
   ]
  },
  {
   "cell_type": "markdown",
   "metadata": {},
   "source": [
    "1..建立模型(Model)：首先，我們要確立Input格式、要經過幾層處理、每一層要作甚麼處理，例如以下程式：\n",
    "\n",
    "參考來源:https://ithelp.ithome.com.tw/articles/10191725\n",
    "\n",
    "參考來源: https://www.facebook.com/notes/chia-yao-chen/%E7%AD%86%E8%A8%98-mnist%E7%B7%B4%E7%BF%92-part-2-%E5%BB%BA%E7%AB%8B%E5%A4%9A%E5%B1%A4%E6%84%9F%E7%9F%A5%E5%99%A8mlp/10155017917842581/"
   ]
  },
  {
   "cell_type": "code",
   "execution_count": 40,
   "metadata": {
    "colab": {
     "autoexec": {
      "startup": false,
      "wait_interval": 0
     }
    },
    "colab_type": "code",
    "id": "N10v1eX2Pln8"
   },
   "outputs": [],
   "source": [
    "# 匯入需要用到的模組\n",
    "from keras.models import Sequential\n",
    "from keras.layers import Dense"
   ]
  },
  {
   "cell_type": "code",
   "execution_count": 41,
   "metadata": {},
   "outputs": [
    {
     "name": "stdout",
     "output_type": "stream",
     "text": [
      "Model: \"sequential_3\"\n",
      "_________________________________________________________________\n",
      "Layer (type)                 Output Shape              Param #   \n",
      "=================================================================\n",
      "dense_6 (Dense)              (None, 256)               200960    \n",
      "_________________________________________________________________\n",
      "dense_7 (Dense)              (None, 256)               65792     \n",
      "_________________________________________________________________\n",
      "dense_8 (Dense)              (None, 10)                2570      \n",
      "=================================================================\n",
      "Total params: 269,322\n",
      "Trainable params: 269,322\n",
      "Non-trainable params: 0\n",
      "_________________________________________________________________\n",
      "None\n"
     ]
    }
   ],
   "source": [
    "#建立模型\n",
    "#宣告採用序列模型，建立一個線性堆疊的模型\n",
    "model = Sequential()\n",
    "#建構輸入層\n",
    "'''\n",
    "參數:\n",
    "units=256: 建立有256個神經元的隱藏層\n",
    "input_dim=784: 一開始的1維影像有784個數值\n",
    "kernel_initializer='normal': 使用常態分佈的亂數來建立初始的weight與bias\n",
    "activation='relu': 使用relu為激活函數\n",
    "'''\n",
    "model.add(Dense(units=256, \n",
    "                input_dim=784, \n",
    "                kernel_initializer='normal', \n",
    "                activation='relu'))\n",
    "#建構輸出層\n",
    "'''\n",
    "參數:\n",
    "units=10:建立有10個神經元的輸出層，代表數字0到9\n",
    "kernel_initializer='normal': 使用常態分佈的亂數來建立初始的weight與bias\n",
    "activation='softmax': 使用softmax為激活函數，可以將每個神經元的輸出，轉換為預測每個數字的機率\n",
    "'''\n",
    "model.add(Dense(units=256, \n",
    "                input_dim=784, \n",
    "                kernel_initializer='normal', \n",
    "                activation='relu'))\n",
    "model.add(Dense(units=10, \n",
    "                kernel_initializer='normal', \n",
    "                activation='softmax'))\n",
    "'''\n",
    "參數:\n",
    "units=256: 建立有256個神經元的隱藏層\n",
    "input_dim=784: 一開始的1維影像有784個數值\n",
    "kernel_initializer='normal': 使用常態分佈的亂數來建立初始的weight與bias\n",
    "activation='relu': 使用relu為激活函數\n",
    "'''\n",
    "\n",
    "#查看一下模型的摘要\n",
    "print(model.summary())"
   ]
  },
  {
   "cell_type": "markdown",
   "metadata": {
    "colab_type": "text",
    "id": "jdoAZgv1PloK"
   },
   "source": [
    "# 訓練模型"
   ]
  },
  {
   "cell_type": "markdown",
   "metadata": {},
   "source": [
    "2.確立目標及求解方法：以compile函數定義損失函數(loss)、優化函數(optimizer)及成效衡量指標(mertrics)。\n",
    "\n",
    "參考來源:https://ithelp.ithome.com.tw/articles/10191725\n",
    "\n",
    "參考來源: https://www.facebook.com/notes/chia-yao-chen/%E7%AD%86%E8%A8%98-mnist%E7%B7%B4%E7%BF%92-part-2-%E5%BB%BA%E7%AB%8B%E5%A4%9A%E5%B1%A4%E6%84%9F%E7%9F%A5%E5%99%A8mlp/10155017917842581/"
   ]
  },
  {
   "cell_type": "code",
   "execution_count": 42,
   "metadata": {
    "colab": {
     "autoexec": {
      "startup": false,
      "wait_interval": 0
     }
    },
    "colab_type": "code",
    "id": "5d5wrEL3PloK"
   },
   "outputs": [],
   "source": [
    "'''\n",
    "參數:\n",
    "loss='categorical_crossentropy':設定損失函數，這邊使用cross entropy的效果比較好。\n",
    "optimizer='adam': 使用adam為最優化方法。\n",
    "metrics=['accuracy']:  設定評估模型的方式是準確率。\n",
    "'''\n",
    "model.compile(loss='categorical_crossentropy', \n",
    "              optimizer='adam', metrics=['accuracy'])"
   ]
  },
  {
   "cell_type": "code",
   "execution_count": 43,
   "metadata": {
    "colab": {
     "autoexec": {
      "startup": false,
      "wait_interval": 0
     },
     "base_uri": "https://localhost:8080/",
     "height": 374
    },
    "colab_type": "code",
    "executionInfo": {
     "elapsed": 15426,
     "status": "ok",
     "timestamp": 1533441786624,
     "user": {
      "displayName": "Edward Cheng",
      "photoUrl": "//lh4.googleusercontent.com/-ANnwjGu3IBk/AAAAAAAAAAI/AAAAAAAAAAc/qXXg6Jek9xw/s50-c-k-no/photo.jpg",
      "userId": "112554017642991017343"
     },
     "user_tz": -480
    },
    "id": "VlpjoqQ9PloM",
    "outputId": "b91454c9-af9a-40fe-9736-b4a1c97462cd"
   },
   "outputs": [
    {
     "name": "stdout",
     "output_type": "stream",
     "text": [
      "Train on 48000 samples, validate on 12000 samples\n",
      "Epoch 1/10\n",
      "48000/48000 [==============================] - 148s 3ms/step - loss: 0.2327 - accuracy: 0.9320 - val_loss: 0.1063 - val_accuracy: 0.9677\n",
      "Epoch 2/10\n",
      "48000/48000 [==============================] - 146s 3ms/step - loss: 0.0917 - accuracy: 0.9714 - val_loss: 0.0923 - val_accuracy: 0.9718\n",
      "Epoch 3/10\n",
      "48000/48000 [==============================] - 149s 3ms/step - loss: 0.0616 - accuracy: 0.9806 - val_loss: 0.0972 - val_accuracy: 0.9720\n",
      "Epoch 4/10\n",
      "48000/48000 [==============================] - 140s 3ms/step - loss: 0.0450 - accuracy: 0.9854 - val_loss: 0.0983 - val_accuracy: 0.9725\n",
      "Epoch 5/10\n",
      "48000/48000 [==============================] - 140s 3ms/step - loss: 0.0351 - accuracy: 0.9885 - val_loss: 0.1197 - val_accuracy: 0.9706\n",
      "Epoch 6/10\n",
      "48000/48000 [==============================] - 142s 3ms/step - loss: 0.0292 - accuracy: 0.9904 - val_loss: 0.0921 - val_accuracy: 0.9778\n",
      "Epoch 7/10\n",
      "48000/48000 [==============================] - 141s 3ms/step - loss: 0.0236 - accuracy: 0.9919 - val_loss: 0.1274 - val_accuracy: 0.9696\n",
      "Epoch 8/10\n",
      "48000/48000 [==============================] - 147s 3ms/step - loss: 0.0226 - accuracy: 0.9930 - val_loss: 0.0891 - val_accuracy: 0.9792\n",
      "Epoch 9/10\n",
      "48000/48000 [==============================] - 140s 3ms/step - loss: 0.0183 - accuracy: 0.9944 - val_loss: 0.1285 - val_accuracy: 0.9727\n",
      "Epoch 10/10\n",
      "48000/48000 [==============================] - 146s 3ms/step - loss: 0.0164 - accuracy: 0.9945 - val_loss: 0.1129 - val_accuracy: 0.9778\n"
     ]
    }
   ],
   "source": [
    "# 進行訓練, 訓練過程會存在 train_history 變數中\n",
    "'''\n",
    "參數:\n",
    "validation_split=0.2 : 設定將80%的資料作為訓練資料，20%的資料作為驗證資料。\n",
    "epochs=10 : 設定跑10個訓練週期\n",
    "batch_size= 32 : 設定每一批次抓取32筆資料。\n",
    "verbose=2 : 設定顯示每一筆訓練過程\n",
    "'''\n",
    "train_history =model.fit(x=x_Train_normalize,\n",
    "                         y=y_Train_OneHot,\n",
    "                         validation_split=0.2, \n",
    "                         epochs=10,\n",
    "                         batch_size=32,\n",
    "                         verbose=1)"
   ]
  },
  {
   "cell_type": "markdown",
   "metadata": {
    "colab_type": "text",
    "id": "pV1Ftdb0PloP"
   },
   "source": [
    "# 以圖形顯示訓練過程"
   ]
  },
  {
   "cell_type": "code",
   "execution_count": 44,
   "metadata": {
    "colab": {
     "autoexec": {
      "startup": false,
      "wait_interval": 0
     }
    },
    "colab_type": "code",
    "id": "EEmuoa1dPloQ"
   },
   "outputs": [],
   "source": [
    "#手動建立一個函數顯示訓練結果\n",
    "import matplotlib.pyplot as plt\n",
    "def show_train_history(train_history,train,validation):\n",
    "    plt.plot(train_history.history[train]) # 畫出訓練資料的執行結果\n",
    "    plt.plot(train_history.history[validation]) # 畫出驗證資料的執行結果\n",
    "    plt.title('Train History') # 顯示圖的標題\n",
    "    plt.ylabel(train) # 設定y軸標籤\n",
    "    plt.xlabel('Epoch') # 設定x軸標籤\n",
    "    plt.legend(['train', 'validation'], loc='upper left') # 把圖例的位置放在左上角\n",
    "    plt.show() # 把圖給畫出來\n",
    "    plt.savefig('training_result.png')\n",
    "    plt.savefig('training_result.jpg')"
   ]
  },
  {
   "cell_type": "code",
   "execution_count": 45,
   "metadata": {
    "colab": {
     "autoexec": {
      "startup": false,
      "wait_interval": 0
     },
     "base_uri": "https://localhost:8080/",
     "height": 376
    },
    "colab_type": "code",
    "executionInfo": {
     "elapsed": 1451,
     "status": "ok",
     "timestamp": 1533441789030,
     "user": {
      "displayName": "Edward Cheng",
      "photoUrl": "//lh4.googleusercontent.com/-ANnwjGu3IBk/AAAAAAAAAAI/AAAAAAAAAAc/qXXg6Jek9xw/s50-c-k-no/photo.jpg",
      "userId": "112554017642991017343"
     },
     "user_tz": -480
    },
    "id": "fvE2WsejPloT",
    "outputId": "bb56e170-8850-409e-bbb2-eb6b5b89e528"
   },
   "outputs": [
    {
     "data": {
      "image/png": "[encoded data removed]",
      "text/plain": [
       "<Figure size 432x288 with 1 Axes>"
      ]
     },
     "metadata": {
      "needs_background": "light"
     },
     "output_type": "display_data"
    },
    {
     "data": {
      "text/plain": [
       "<Figure size 432x288 with 0 Axes>"
      ]
     },
     "metadata": {},
     "output_type": "display_data"
    }
   ],
   "source": [
    "# 接著利用前面建立的函數把accuracy的結果畫出來\n",
    "show_train_history(train_history,'accuracy','val_accuracy')"
   ]
  },
  {
   "cell_type": "code",
   "execution_count": 46,
   "metadata": {
    "colab": {
     "autoexec": {
      "startup": false,
      "wait_interval": 0
     },
     "base_uri": "https://localhost:8080/",
     "height": 376
    },
    "colab_type": "code",
    "executionInfo": {
     "elapsed": 1937,
     "status": "ok",
     "timestamp": 1533441791049,
     "user": {
      "displayName": "Edward Cheng",
      "photoUrl": "//lh4.googleusercontent.com/-ANnwjGu3IBk/AAAAAAAAAAI/AAAAAAAAAAc/qXXg6Jek9xw/s50-c-k-no/photo.jpg",
      "userId": "112554017642991017343"
     },
     "user_tz": -480
    },
    "id": "zIYyrnFWPloW",
    "outputId": "4bdbd1fa-6f25-49af-88d0-8d35f6e2ecaa"
   },
   "outputs": [
    {
     "data": {
      "image/png": "[encoded data removed]",
      "text/plain": [
       "<Figure size 432x288 with 1 Axes>"
      ]
     },
     "metadata": {
      "needs_background": "light"
     },
     "output_type": "display_data"
    },
    {
     "data": {
      "text/plain": [
       "<Figure size 432x288 with 0 Axes>"
      ]
     },
     "metadata": {},
     "output_type": "display_data"
    }
   ],
   "source": [
    "# 接著利用前面建立的函數把loss的結果畫出來\n",
    "show_train_history(train_history,'loss','val_loss')"
   ]
  },
  {
   "cell_type": "markdown",
   "metadata": {
    "colab_type": "text",
    "id": "h1z2y0g-PloZ"
   },
   "source": [
    "# 評估模型準確率"
   ]
  },
  {
   "cell_type": "code",
   "execution_count": 47,
   "metadata": {
    "colab": {
     "autoexec": {
      "startup": false,
      "wait_interval": 0
     },
     "base_uri": "https://localhost:8080/",
     "height": 68
    },
    "colab_type": "code",
    "executionInfo": {
     "elapsed": 1425,
     "status": "ok",
     "timestamp": 1533441792584,
     "user": {
      "displayName": "Edward Cheng",
      "photoUrl": "//lh4.googleusercontent.com/-ANnwjGu3IBk/AAAAAAAAAAI/AAAAAAAAAAc/qXXg6Jek9xw/s50-c-k-no/photo.jpg",
      "userId": "112554017642991017343"
     },
     "user_tz": -480
    },
    "id": "vMawurJqPloZ",
    "outputId": "31465f8d-cfad-49b8-dc9e-90d643e6b4a8"
   },
   "outputs": [
    {
     "name": "stdout",
     "output_type": "stream",
     "text": [
      "10000/10000 [==============================] - 25s 3ms/step\n",
      "\n",
      "accuracy= 0.9790999889373779\n"
     ]
    }
   ],
   "source": [
    "#用測試資料來評估模型的準確率\n",
    "scores = model.evaluate(x_Test_normalize, y_Test_OneHot)\n",
    "print()\n",
    "print('accuracy=',scores[1])"
   ]
  },
  {
   "cell_type": "markdown",
   "metadata": {},
   "source": [
    "參考來源:https://www.facebook.com/notes/chia-yao-chen/%E7%AD%86%E8%A8%98-mnist%E7%B7%B4%E7%BF%92-part-2-%E5%BB%BA%E7%AB%8B%E5%A4%9A%E5%B1%A4%E6%84%9F%E7%9F%A5%E5%99%A8mlp/10155017917842581/"
   ]
  },
  {
   "cell_type": "code",
   "execution_count": null,
   "metadata": {},
   "outputs": [],
   "source": []
  }
 ],
 "metadata": {
  "accelerator": "GPU",
  "colab": {
   "collapsed_sections": [],
   "default_view": {},
   "name": "Keras_Mnist_MLP_h256.ipynb",
   "provenance": [],
   "version": "0.3.2",
   "views": {}
  },
  "kernelspec": {
   "display_name": "Python 3",
   "language": "python",
   "name": "python3"
  },
  "language_info": {
   "codemirror_mode": {
    "name": "ipython",
    "version": 3
   },
   "file_extension": ".py",
   "mimetype": "text/x-python",
   "name": "python",
   "nbconvert_exporter": "python",
   "pygments_lexer": "ipython3",
   "version": "3.7.5"
  }
 },
 "nbformat": 4,
 "nbformat_minor": 1
}
