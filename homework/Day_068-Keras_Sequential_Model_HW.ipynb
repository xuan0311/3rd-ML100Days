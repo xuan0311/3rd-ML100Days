{
 "cells": [
  {
   "cell_type": "markdown",
   "metadata": {},
   "source": [
    "\n",
    "# 作業目標:\n",
    "    \n",
    "    了解keras 模型架構\n",
    "\n",
    "\n",
    "# 作業重點:\n",
    "    \n",
    "    請修改input shape: (Conv2D(64, (3, 3))的設定, 新增一層 Dense 並觀看 model.summary 的輸出\n"
   ]
  },
  {
   "cell_type": "code",
   "execution_count": 1,
   "metadata": {},
   "outputs": [
    {
     "name": "stderr",
     "output_type": "stream",
     "text": [
      "Using TensorFlow backend.\n"
     ]
    }
   ],
   "source": [
    "# 載入必須使用的 Library\n",
    "import keras\n",
    "from keras.datasets import cifar10\n",
    "from keras.models import Sequential, load_model\n",
    "from keras.layers import Dense, Dropout, Activation, Flatten\n",
    "from keras.layers import Conv2D, MaxPooling2D"
   ]
  },
  {
   "cell_type": "code",
   "execution_count": 2,
   "metadata": {},
   "outputs": [
    {
     "name": "stdout",
     "output_type": "stream",
     "text": [
      "x_train shape: (50000, 32, 32, 3)\n",
      "50000 train samples\n",
      "10000 test samples\n"
     ]
    },
    {
     "data": {
      "text/plain": [
       "\"\\nto_categorical(y, num_classes=None, dtype='float32')\\n\\nkeras.utils.to_categorical將整型標籤轉為onehot\\n參數:\\ny: int數組\\nnum_classes: 標籤類別總數，大於max(y)（標籤從0開始的）。\\n\""
      ]
     },
     "execution_count": 2,
     "metadata": {},
     "output_type": "execute_result"
    }
   ],
   "source": [
    "batch_size = 32\n",
    "num_classes = 10\n",
    "epochs = 10\n",
    "\n",
    "# The data, shuffled(洗牌) and split between train and test sets:\n",
    "# 執行下載cifar10資料，並進行讀取\n",
    "(x_train, y_train), (x_test, y_test) = cifar10.load_data()\n",
    "# 查看mnist資料\n",
    "print('x_train shape:', x_train.shape)\n",
    "print(x_train.shape[0], 'train samples')\n",
    "print(x_test.shape[0], 'test samples')\n",
    "\n",
    "# Convert class vectors to binary class matrices.\n",
    "y_train = keras.utils.to_categorical(y_train, num_classes)\n",
    "y_test = keras.utils.to_categorical(y_test, num_classes)\n",
    "'''\n",
    "to_categorical(y, num_classes=None, dtype='float32')\n",
    "\n",
    "keras.utils.to_categorical將整型標籤轉為onehot\n",
    "參數:\n",
    "y: int數組\n",
    "num_classes: 標籤類別總數，大於max(y)（標籤從0開始的）。\n",
    "'''"
   ]
  },
  {
   "cell_type": "code",
   "execution_count": 3,
   "metadata": {},
   "outputs": [],
   "source": [
    "# build our CNN model\n",
    "\n",
    "# 建立一個線性堆疊模型\n",
    "model = Sequential() \n",
    "# 建立卷積層1\n",
    "model.add(Conv2D(64, (3, 3), # 每一個濾鏡大小為3X3\n",
    "            padding = 'same', # 讓卷積進行運算時，產生的卷積影像大小不變\n",
    "            input_shape = x_train.shape[1:])) # 代表輸入影像維度\n",
    "model.add(Activation('relu')) # 設定ReLu激活函數\n",
    "# 建立平坦層\n",
    "model.add(Flatten()) \n",
    "model.add(Dense(512)) # 建立隱藏層共有512個神經元\n",
    "model.add(Activation('relu'))# 設定Relu激活函數\n",
    "model.add(Dropout(0.5))  # 加入Dropout層至模型中，每次訓練迭代時，會隨機在神經網路中放棄50%的神經元\n",
    "# 建立輸出層\n",
    "model.add(Dense(num_classes))\n",
    "model.add(Activation('softmax')) # 建立softmax激活函數進行轉換"
   ]
  },
  {
   "cell_type": "code",
   "execution_count": 4,
   "metadata": {},
   "outputs": [
    {
     "name": "stdout",
     "output_type": "stream",
     "text": [
      "Model: \"sequential_1\"\n",
      "_________________________________________________________________\n",
      "Layer (type)                 Output Shape              Param #   \n",
      "=================================================================\n",
      "conv2d_1 (Conv2D)            (None, 32, 32, 64)        1792      \n",
      "_________________________________________________________________\n",
      "activation_1 (Activation)    (None, 32, 32, 64)        0         \n",
      "_________________________________________________________________\n",
      "flatten_1 (Flatten)          (None, 65536)             0         \n",
      "_________________________________________________________________\n",
      "dense_1 (Dense)              (None, 512)               33554944  \n",
      "_________________________________________________________________\n",
      "activation_2 (Activation)    (None, 512)               0         \n",
      "_________________________________________________________________\n",
      "dropout_1 (Dropout)          (None, 512)               0         \n",
      "_________________________________________________________________\n",
      "dense_2 (Dense)              (None, 10)                5130      \n",
      "_________________________________________________________________\n",
      "activation_3 (Activation)    (None, 10)                0         \n",
      "=================================================================\n",
      "Total params: 33,561,866\n",
      "Trainable params: 33,561,866\n",
      "Non-trainable params: 0\n",
      "_________________________________________________________________\n",
      "None\n"
     ]
    }
   ],
   "source": [
    "# 查看模型摘要\n",
    "print(model.summary())"
   ]
  },
  {
   "cell_type": "code",
   "execution_count": 5,
   "metadata": {},
   "outputs": [],
   "source": [
    "# build our CNN model, 多加幾層\n",
    "# 建立一個線性堆疊模型\n",
    "model = Sequential()\n",
    "# 建立卷積層1\n",
    "model.add(Conv2D(32, (5, 5),# 每一個濾鏡大小為5X5\n",
    "            padding='same', # 讓卷積進行運算時，產生的卷積影像大小不變\n",
    "            input_shape=x_train.shape[1:]))\n",
    "# 建立平坦層\n",
    "model.add(Flatten())\n",
    "model.add(Dense(512)) # 建立隱藏層共有512個神經元\n",
    "model.add(Activation('relu')) # 設定Relu激活函數\n",
    "model.add(Dropout(0.5)) # 加入Dropout層至模型中，每次訓練迭代時，會隨機在神經網路中放棄50%的神經元\n",
    "# 建立輸出層\n",
    "model.add(Dense(num_classes))\n",
    "model.add(Activation('softmax')) # 建立softmax激活函數進行轉換\n",
    "model.add(Dense(num_classes))"
   ]
  },
  {
   "cell_type": "code",
   "execution_count": 6,
   "metadata": {},
   "outputs": [
    {
     "name": "stdout",
     "output_type": "stream",
     "text": [
      "Model: \"sequential_2\"\n",
      "_________________________________________________________________\n",
      "Layer (type)                 Output Shape              Param #   \n",
      "=================================================================\n",
      "conv2d_2 (Conv2D)            (None, 32, 32, 32)        2432      \n",
      "_________________________________________________________________\n",
      "flatten_2 (Flatten)          (None, 32768)             0         \n",
      "_________________________________________________________________\n",
      "dense_3 (Dense)              (None, 512)               16777728  \n",
      "_________________________________________________________________\n",
      "activation_4 (Activation)    (None, 512)               0         \n",
      "_________________________________________________________________\n",
      "dropout_2 (Dropout)          (None, 512)               0         \n",
      "_________________________________________________________________\n",
      "dense_4 (Dense)              (None, 10)                5130      \n",
      "_________________________________________________________________\n",
      "activation_5 (Activation)    (None, 10)                0         \n",
      "_________________________________________________________________\n",
      "dense_5 (Dense)              (None, 10)                110       \n",
      "=================================================================\n",
      "Total params: 16,785,400\n",
      "Trainable params: 16,785,400\n",
      "Non-trainable params: 0\n",
      "_________________________________________________________________\n",
      "None\n"
     ]
    }
   ],
   "source": [
    "# 查看模型摘要\n",
    "print(model.summary())"
   ]
  },
  {
   "cell_type": "code",
   "execution_count": null,
   "metadata": {},
   "outputs": [],
   "source": []
  }
 ],
 "metadata": {
  "kernelspec": {
   "display_name": "Python 3",
   "language": "python",
   "name": "python3"
  },
  "language_info": {
   "codemirror_mode": {
    "name": "ipython",
    "version": 3
   },
   "file_extension": ".py",
   "mimetype": "text/x-python",
   "name": "python",
   "nbconvert_exporter": "python",
   "pygments_lexer": "ipython3",
   "version": "3.7.6"
  }
 },
 "nbformat": 4,
 "nbformat_minor": 2
}
