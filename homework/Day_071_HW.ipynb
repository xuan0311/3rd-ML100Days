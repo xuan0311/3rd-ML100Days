{
 "cells": [
  {
   "cell_type": "markdown",
   "metadata": {
    "colab_type": "text",
    "id": "cj4tE8e8iUtO"
   },
   "source": [
    "#   \n",
    "\n",
    "# 作業目標:\n",
    "\n",
    "    1. 藉由固定的 dataset, 來驗證不同loss function\n",
    "    2. Dataset 的特性跟我們選用的loss function 對accrancy 的影響\n",
    "    \n",
    "    \n",
    "# 作業重點: \n",
    "    請分別選用 \"MSE\", \"binary _crossentropy\"\n",
    "    查看Train/test accurancy and loss rate\n",
    "    "
   ]
  },
  {
   "cell_type": "markdown",
   "metadata": {
    "colab_type": "text",
    "id": "R51J4KyyiUsL"
   },
   "source": [
    "# 導入必要的函數"
   ]
  },
  {
   "cell_type": "code",
   "execution_count": 1,
   "metadata": {
    "colab": {},
    "colab_type": "code",
    "id": "Qd68OQjciUsM"
   },
   "outputs": [
    {
     "name": "stderr",
     "output_type": "stream",
     "text": [
      "Using TensorFlow backend.\n"
     ]
    }
   ],
   "source": [
    "from keras.datasets import cifar10\n",
    "import numpy as np\n",
    "np.random.seed(10)# np.random.seed(10)的作用：使得隨機數據可預測"
   ]
  },
  {
   "cell_type": "markdown",
   "metadata": {
    "colab_type": "text",
    "id": "GxKuzQLQiUsP"
   },
   "source": [
    "# 資料準備"
   ]
  },
  {
   "cell_type": "code",
   "execution_count": 2,
   "metadata": {
    "colab": {},
    "colab_type": "code",
    "id": "MIbFZdTCiUsQ"
   },
   "outputs": [],
   "source": [
    "# 取得Keras Dataset\n",
    "# 匯入mnist模組用以下載並讀取mnist資料，利用mnist.load_data()下載資料\n",
    "(x_img_train,y_label_train),(x_img_test,y_label_test)=cifar10.load_data()"
   ]
  },
  {
   "cell_type": "code",
   "execution_count": 3,
   "metadata": {
    "colab": {},
    "colab_type": "code",
    "id": "J8CJVjNOiUsS"
   },
   "outputs": [
    {
     "name": "stdout",
     "output_type": "stream",
     "text": [
      "train data: images: (50000, 32, 32, 3)  labels: (50000, 1)\n",
      "test  data: images: (10000, 32, 32, 3)  labels: (10000, 1)\n"
     ]
    },
    {
     "data": {
      "text/plain": [
       "'\\n將x_img_train及x_img_test由原本三維轉為四維矩陣以符合CNN的需求，\\n這是因為RGB圖片的格式為為width, height, channels，加上ID數維度為4，\\n轉換後的shape為(ID, width, height, channel)\\n'"
      ]
     },
     "execution_count": 3,
     "metadata": {},
     "output_type": "execute_result"
    }
   ],
   "source": [
    "# 確認 CIFAR10 Dataset 資料維度\n",
    "print(\"train data:\",'images:',x_img_train.shape,\n",
    "      \" labels:\",y_label_train.shape) \n",
    "print(\"test  data:\",'images:',x_img_test.shape ,\n",
    "      \" labels:\",y_label_test.shape) \n",
    "'''\n",
    "將x_img_train及x_img_test由原本三維轉為四維矩陣以符合CNN的需求，\n",
    "這是因為RGB圖片的格式為為width, height, channels，加上ID數維度為4，\n",
    "轉換後的shape為(ID, width, height, channel)\n",
    "'''"
   ]
  },
  {
   "cell_type": "code",
   "execution_count": 4,
   "metadata": {
    "colab": {},
    "colab_type": "code",
    "id": "V3P6P4DXiUsV"
   },
   "outputs": [],
   "source": [
    "# 資料正規化, 並設定 data array 為浮點數\n",
    "# 圖像數值原本是0到255，將數值除以255，可以使數值介於0到1，除了可提昇模型預測的準確度，梯度運算時也能更快收斂。\n",
    "# 將features標準化\n",
    "x_img_train_normalize = x_img_train.astype('float32') / 255.0\n",
    "x_img_test_normalize = x_img_test.astype('float32') / 255.0"
   ]
  },
  {
   "cell_type": "code",
   "execution_count": 5,
   "metadata": {
    "colab": {},
    "colab_type": "code",
    "id": "vsDyjKYliUsX"
   },
   "outputs": [
    {
     "data": {
      "text/plain": [
       "(10000, 10)"
      ]
     },
     "execution_count": 5,
     "metadata": {},
     "output_type": "execute_result"
    }
   ],
   "source": [
    "# 針對Label 做 ONE HOT ENCODE, 並查看維度資訊\n",
    "# 彼此間不相關且非有序的categories轉換為連續性且是有序數值。\n",
    "# labe以one-hot encoding轉換\n",
    "from keras.utils import np_utils\n",
    "y_label_train_OneHot = np_utils.to_categorical(y_label_train)\n",
    "y_label_test_OneHot = np_utils.to_categorical(y_label_test)\n",
    "y_label_test_OneHot.shape"
   ]
  },
  {
   "cell_type": "markdown",
   "metadata": {
    "colab_type": "text",
    "id": "RutW2OtgiUsZ"
   },
   "source": [
    "# 建立模型"
   ]
  },
  {
   "cell_type": "markdown",
   "metadata": {},
   "source": [
    "## 1.建立模型(Model)：\n",
    "首先，我們要確立Input格式、要經過幾層處理、每一層要作甚麼處理，例如以下程式：\n",
    "\n",
    "##### 參考來源:https://ithelp.ithome.com.tw/articles/10191725"
   ]
  },
  {
   "cell_type": "code",
   "execution_count": 6,
   "metadata": {
    "colab": {},
    "colab_type": "code",
    "id": "aHz592aXiUsa"
   },
   "outputs": [],
   "source": [
    "# 建立多層感知器的模型，先匯入需要用到的模組\n",
    "from keras.models import Sequential\n",
    "from keras.layers import Dense, Dropout, Activation, Flatten\n",
    "from keras.layers import Conv2D, MaxPooling2D, ZeroPadding2D"
   ]
  },
  {
   "cell_type": "code",
   "execution_count": 7,
   "metadata": {
    "colab": {},
    "colab_type": "code",
    "id": "hslqrIp0iUse"
   },
   "outputs": [
    {
     "data": {
      "text/plain": [
       "'\\n說明:\\n依據官方文件 說明，Keras 提供兩種模型，\\nSequential Model (順序式模型)與 Functional API。\\n\\n1.Sequential Model (順序式模型)：\\n就是一種簡單的模型，單一輸入、單一輸出，\\n按順序一層(Dense)一層的由上往下執行。\\n2.Functional API：支援多個輸入、多個輸出。\\n'"
      ]
     },
     "execution_count": 7,
     "metadata": {},
     "output_type": "execute_result"
    }
   ],
   "source": [
    "# 宣告採用序列模型\n",
    "# 建立一個線性堆疊的模型\n",
    "model = Sequential()\n",
    "'''\n",
    "說明:\n",
    "依據官方文件 說明，Keras 提供兩種模型，\n",
    "Sequential Model (順序式模型)與 Functional API。\n",
    "\n",
    "1.Sequential Model (順序式模型)：\n",
    "就是一種簡單的模型，單一輸入、單一輸出，\n",
    "按順序一層(Dense)一層的由上往下執行。\n",
    "2.Functional API：支援多個輸入、多個輸出。\n",
    "'''"
   ]
  },
  {
   "cell_type": "markdown",
   "metadata": {
    "colab": {},
    "colab_type": "code",
    "id": "Hqe35hs2iUsi"
   },
   "source": [
    "## 卷積層1"
   ]
  },
  {
   "cell_type": "code",
   "execution_count": 8,
   "metadata": {
    "colab": {},
    "colab_type": "code",
    "id": "ED7dqe1YiUsm"
   },
   "outputs": [
    {
     "data": {
      "text/plain": [
       "\"\\n參數說明:\\nfilters: 該層有32個filters（即我們稱的filter或kernel）。\\nkernel_size: kernel大小為3 x 3 。\\ninput_shape: 輸入的圖形維度為32 x 32 x 3 。\\n啟動函數: 'relu' 。\\npadding:'same' 代表保留邊界處的捲積結果，卷積後的圖形大小不變(即圖像周圍會補值)，通常會導致輸出shape與輸入shape相同。\\npadding:'valid' 代表只進行有效的捲積，對邊界數據不處理。\\n\""
      ]
     },
     "execution_count": 8,
     "metadata": {},
     "output_type": "execute_result"
    }
   ],
   "source": [
    "# 建構輸入層\n",
    "# 建立第一個卷積層並加入model\n",
    "model.add(Conv2D(filters=32, # 建立32個濾鏡filter weight\n",
    "                 kernel_size=(3,3), # 每一個濾鏡3x3大小\n",
    "                 input_shape=(32, 32,3),  # 輸入資料尺寸\n",
    "                 activation='relu',  # 設定ReLu激活函數\n",
    "                 padding='same')) # 設定卷積運算，產生的卷積影像大小不變\n",
    "'''\n",
    "參數說明:\n",
    "filters: 該層有32個filters（即我們稱的filter或kernel）。\n",
    "kernel_size: kernel大小為3 x 3 。\n",
    "input_shape: 輸入的圖形維度為32 x 32 x 3 。\n",
    "啟動函數: 'relu' 。\n",
    "padding:'same' 代表保留邊界處的捲積結果，卷積後的圖形大小不變(即圖像周圍會補值)，通常會導致輸出shape與輸入shape相同。\n",
    "padding:'valid' 代表只進行有效的捲積，對邊界數據不處理。\n",
    "'''"
   ]
  },
  {
   "cell_type": "code",
   "execution_count": 9,
   "metadata": {
    "colab": {},
    "colab_type": "code",
    "id": "n-GRKmPViUso"
   },
   "outputs": [],
   "source": [
    "# 加入Dropout層，Dropout它最大的功用是減少過度擬合。\n",
    "'''\n",
    "在深度學習的訓練過程中，\n",
    "Dropout會讓每次batch run都依據機率丟棄一定比例的神經元不予計算，\n",
    "使得每一次都好像在訓練不同的神經網路一樣。\n",
    "'''\n",
    "model.add(Dropout(rate=0.25)) # 該Dropout層每次訓練時要丟棄25%的神經元。"
   ]
  },
  {
   "cell_type": "code",
   "execution_count": 10,
   "metadata": {
    "colab": {},
    "colab_type": "code",
    "id": "GlWnnD1uiUsw"
   },
   "outputs": [
    {
     "data": {
      "text/plain": [
       "'\\n參數說明:\\npool size: 定義為(2,2)，即尺寸縮小為一半\\n本層接收了第一個卷積層的32個28×28影像後，會輸出32個14×14的影像。\\n'"
      ]
     },
     "execution_count": 10,
     "metadata": {},
     "output_type": "execute_result"
    }
   ],
   "source": [
    "# 建立池化層1\n",
    "# 將32個28x28影像，縮小成32個14x14影像\n",
    "model.add(MaxPooling2D(pool_size=(2, 2)))\n",
    "'''\n",
    "參數說明:\n",
    "pool size: 定義為(2,2)，即尺寸縮小為一半\n",
    "本層接收了第一個卷積層的32個28×28影像後，會輸出32個14×14的影像。\n",
    "'''"
   ]
  },
  {
   "cell_type": "markdown",
   "metadata": {
    "colab": {},
    "colab_type": "code",
    "id": "nawlkt55iUsy"
   },
   "source": [
    "## 卷積層2與池化層2"
   ]
  },
  {
   "cell_type": "code",
   "execution_count": 11,
   "metadata": {
    "colab": {},
    "colab_type": "code",
    "id": "xxyETiKNiUs1"
   },
   "outputs": [
    {
     "data": {
      "text/plain": [
       "\"\\n參數說明:\\nfilters: 該層有64個filters（即我們稱的filter或kernel）。\\nkernel_size: kernel大小為3 x 3 。\\n啟動函數: 'relu' 。\\npadding:'same' 代表保留邊界處的捲積結果，卷積後的圖形大小不變(即圖像周圍會補值)，通常會導致輸出shape與輸入shape相同。\\npadding:'valid' 代表只進行有效的捲積，對邊界數據不處理。\\n\""
      ]
     },
     "execution_count": 11,
     "metadata": {},
     "output_type": "execute_result"
    }
   ],
   "source": [
    "# 建立第二個卷積層\n",
    "model.add(Conv2D(filters=64,# 建立64個濾鏡\n",
    "                 kernel_size=(3, 3), # 每一個濾鏡大小3x3\n",
    "                 activation='relu',  # 設定ReLu激活函數\n",
    "                 padding='same')) # 讓卷積運算部會改變影像大小\n",
    "'''\n",
    "參數說明:\n",
    "filters: 該層有64個filters（即我們稱的filter或kernel）。\n",
    "kernel_size: kernel大小為3 x 3 。\n",
    "啟動函數: 'relu' 。\n",
    "padding:'same' 代表保留邊界處的捲積結果，卷積後的圖形大小不變(即圖像周圍會補值)，通常會導致輸出shape與輸入shape相同。\n",
    "padding:'valid' 代表只進行有效的捲積，對邊界數據不處理。\n",
    "'''"
   ]
  },
  {
   "cell_type": "code",
   "execution_count": 12,
   "metadata": {
    "colab": {},
    "colab_type": "code",
    "id": "RqcKWtqGiUs2"
   },
   "outputs": [
    {
     "data": {
      "text/plain": [
       "'\\n在深度學習的訓練過程中，\\nDropout會讓每次batch run都依據機率丟棄一定比例的神經元不予計算，\\n使得每一次都好像在訓練不同的神經網路一樣。\\n'"
      ]
     },
     "execution_count": 12,
     "metadata": {},
     "output_type": "execute_result"
    }
   ],
   "source": [
    "# 加入Dropout層，Dropout它最大的功用是減少過度擬合。\n",
    "model.add(Dropout(0.25)) # 該Dropout層每次訓練時要丟棄25%的神經元。\n",
    "'''\n",
    "在深度學習的訓練過程中，\n",
    "Dropout會讓每次batch run都依據機率丟棄一定比例的神經元不予計算，\n",
    "使得每一次都好像在訓練不同的神經網路一樣。\n",
    "'''"
   ]
  },
  {
   "cell_type": "code",
   "execution_count": 13,
   "metadata": {
    "colab": {},
    "colab_type": "code",
    "id": "BUOOzlqfiUs4"
   },
   "outputs": [
    {
     "data": {
      "text/plain": [
       "'\\n參數說明:\\npool size: 定義為(2,2)，即尺寸縮小為一半\\n本層接收了第一個卷積層的32個28×28影像後，會輸出32個14×14的影像。\\n'"
      ]
     },
     "execution_count": 13,
     "metadata": {},
     "output_type": "execute_result"
    }
   ],
   "source": [
    "# 建立第2個池化層\n",
    "# 將64個14x14影像，縮小成64個7x7影像\n",
    "model.add(MaxPooling2D(pool_size=(2, 2)))\n",
    "'''\n",
    "參數說明:\n",
    "pool size: 定義為(2,2)，即尺寸縮小為一半\n",
    "本層接收了第一個卷積層的32個28×28影像後，會輸出32個14×14的影像。\n",
    "'''"
   ]
  },
  {
   "cell_type": "markdown",
   "metadata": {
    "colab": {},
    "colab_type": "code",
    "id": "LpkppB2siUs7"
   },
   "source": [
    "## 建立神經網路(平坦層、隱藏層、輸出層)"
   ]
  },
  {
   "cell_type": "code",
   "execution_count": 14,
   "metadata": {
    "colab": {},
    "colab_type": "code",
    "id": "UQOfU54_iUs_"
   },
   "outputs": [],
   "source": [
    "# 建立神經網路(平坦層、隱藏層、輸出層)\n",
    "# 建立平坦層，將特徵值轉為一維資料以供後續的全連結層使用\n",
    "model.add(Flatten())\n",
    "model.add(Dropout(rate=0.25)) # 該Dropout層每次訓練時要丟棄25%的神經元。"
   ]
  },
  {
   "cell_type": "code",
   "execution_count": 15,
   "metadata": {
    "colab": {},
    "colab_type": "code",
    "id": "_NV-8sq4iUtD"
   },
   "outputs": [],
   "source": [
    "# 建立隱藏層\n",
    "# 建立全連結層中的隱藏層(即傳統神經網路中的全連結層)，指定其神經元數目為1024個（此數目可調整），啟用函數使用Relu。\n",
    "model.add(Dense(1024, activation='relu'))\n",
    "model.add(Dropout(rate=0.25))#該Dropout層每次訓練時要丟棄25%的神經元。"
   ]
  },
  {
   "cell_type": "code",
   "execution_count": 16,
   "metadata": {
    "colab": {},
    "colab_type": "code",
    "id": "qVK77krOiUtF"
   },
   "outputs": [],
   "source": [
    "# 建立輸出層\n",
    "# 也就是要要輸出十種0~9的分類值，一般我們都會使用softmax作為分類模型輸出層的啟動函數。\n",
    "model.add(Dense(10, activation='softmax'))"
   ]
  },
  {
   "cell_type": "code",
   "execution_count": 17,
   "metadata": {
    "colab": {},
    "colab_type": "code",
    "id": "ZxzRIjR0iUtH"
   },
   "outputs": [
    {
     "name": "stdout",
     "output_type": "stream",
     "text": [
      "Model: \"sequential_1\"\n",
      "_________________________________________________________________\n",
      "Layer (type)                 Output Shape              Param #   \n",
      "=================================================================\n",
      "conv2d_1 (Conv2D)            (None, 32, 32, 32)        896       \n",
      "_________________________________________________________________\n",
      "dropout_1 (Dropout)          (None, 32, 32, 32)        0         \n",
      "_________________________________________________________________\n",
      "max_pooling2d_1 (MaxPooling2 (None, 16, 16, 32)        0         \n",
      "_________________________________________________________________\n",
      "conv2d_2 (Conv2D)            (None, 16, 16, 64)        18496     \n",
      "_________________________________________________________________\n",
      "dropout_2 (Dropout)          (None, 16, 16, 64)        0         \n",
      "_________________________________________________________________\n",
      "max_pooling2d_2 (MaxPooling2 (None, 8, 8, 64)          0         \n",
      "_________________________________________________________________\n",
      "flatten_1 (Flatten)          (None, 4096)              0         \n",
      "_________________________________________________________________\n",
      "dropout_3 (Dropout)          (None, 4096)              0         \n",
      "_________________________________________________________________\n",
      "dense_1 (Dense)              (None, 1024)              4195328   \n",
      "_________________________________________________________________\n",
      "dropout_4 (Dropout)          (None, 1024)              0         \n",
      "_________________________________________________________________\n",
      "dense_2 (Dense)              (None, 10)                10250     \n",
      "=================================================================\n",
      "Total params: 4,224,970\n",
      "Trainable params: 4,224,970\n",
      "Non-trainable params: 0\n",
      "_________________________________________________________________\n",
      "None\n"
     ]
    }
   ],
   "source": [
    "# 檢查model 的STACK\n",
    "# 使用summary指令review一下整個model吧\n",
    "print(model.summary())"
   ]
  },
  {
   "cell_type": "markdown",
   "metadata": {
    "colab_type": "text",
    "id": "QJCtpJM0iUtJ"
   },
   "source": [
    "# 載入之前訓練的模型"
   ]
  },
  {
   "cell_type": "code",
   "execution_count": 18,
   "metadata": {
    "colab": {},
    "colab_type": "code",
    "id": "JU3A6NzQiUtK"
   },
   "outputs": [
    {
     "name": "stdout",
     "output_type": "stream",
     "text": [
      "載入模型失敗!開始訓練一個新模型\n"
     ]
    }
   ],
   "source": [
    "try:\n",
    "    model.load_weights(\"SaveModel/cifarCnnModel.h5\")\n",
    "    print(\"載入模型成功!繼續訓練模型\")\n",
    "except :    \n",
    "    print(\"載入模型失敗!開始訓練一個新模型\")"
   ]
  },
  {
   "cell_type": "markdown",
   "metadata": {
    "colab_type": "text",
    "id": "qBbCuziziUtM"
   },
   "source": [
    "# 訓練模型"
   ]
  },
  {
   "cell_type": "markdown",
   "metadata": {},
   "source": [
    "## 2.確立目標及求解方法：\n",
    "以compile函數定義損失函數(loss)、優化函數(optimizer)及成效衡量指標(mertrics)。\n",
    "\n",
    "### 參考來源:https://ithelp.ithome.com.tw/articles/10191725"
   ]
  },
  {
   "cell_type": "code",
   "execution_count": 19,
   "metadata": {
    "colab": {},
    "colab_type": "code",
    "id": "Q6BiBcseiUtP"
   },
   "outputs": [
    {
     "data": {
      "text/plain": [
       "'\\n作業:\\n請分別選用 \"MSE\", \"binary _crossentropy\"\\n查看Train/test accurancy and loss rate\\n'"
      ]
     },
     "execution_count": 19,
     "metadata": {},
     "output_type": "execute_result"
    }
   ],
   "source": [
    "# 定義訓練方式\n",
    "model.compile(loss='categorical_crossentropy', # 設定損失函數，在深度學習使用cross_entrop交叉焓\n",
    "              optimizer='sgd',  # 設定訓練的最佳化方法\n",
    "              metrics=['accuracy']) # 設定評估方式為準確率\n",
    "'''\n",
    "參數:\n",
    "loss='categorical_crossentropy' : 設定損失函數，這邊使用cross entropy的效果比較好\n",
    "optimizer='adam' :   使用adam為最優化方法\n",
    "metrics=['accuracy'] 設定評估模型的方式是準確率\n",
    "'''\n",
    "#=========================================================================================\n",
    "'''\n",
    "作業:\n",
    "請分別選用 \"MSE\", \"binary _crossentropy\"\n",
    "查看Train/test accurancy and loss rate\n",
    "'''"
   ]
  },
  {
   "cell_type": "code",
   "execution_count": 20,
   "metadata": {
    "colab": {},
    "colab_type": "code",
    "id": "4-GdDgmQiUtS"
   },
   "outputs": [
    {
     "name": "stdout",
     "output_type": "stream",
     "text": [
      "Train on 37500 samples, validate on 12500 samples\n",
      "Epoch 1/12\n",
      "37500/37500 [==============================] - 24s 633us/step - loss: 2.1651 - accuracy: 0.2021 - val_loss: 2.0524 - val_accuracy: 0.2994\n",
      "Epoch 2/12\n",
      "37500/37500 [==============================] - 21s 560us/step - loss: 1.9525 - accuracy: 0.3003 - val_loss: 1.9509 - val_accuracy: 0.3385\n",
      "Epoch 3/12\n",
      "37500/37500 [==============================] - 21s 564us/step - loss: 1.8280 - accuracy: 0.3502 - val_loss: 1.8256 - val_accuracy: 0.3938\n",
      "Epoch 4/12\n",
      "37500/37500 [==============================] - 21s 571us/step - loss: 1.7267 - accuracy: 0.3854 - val_loss: 1.7391 - val_accuracy: 0.4270\n",
      "Epoch 5/12\n",
      "37500/37500 [==============================] - 21s 570us/step - loss: 1.6406 - accuracy: 0.4161 - val_loss: 1.6621 - val_accuracy: 0.4509\n",
      "Epoch 6/12\n",
      "37500/37500 [==============================] - 21s 562us/step - loss: 1.5726 - accuracy: 0.4379 - val_loss: 1.6085 - val_accuracy: 0.4660\n",
      "Epoch 7/12\n",
      "37500/37500 [==============================] - 21s 559us/step - loss: 1.5163 - accuracy: 0.4585 - val_loss: 1.5666 - val_accuracy: 0.4769\n",
      "Epoch 8/12\n",
      "37500/37500 [==============================] - 21s 560us/step - loss: 1.4721 - accuracy: 0.4755 - val_loss: 1.4991 - val_accuracy: 0.5002\n",
      "Epoch 9/12\n",
      "37500/37500 [==============================] - 21s 560us/step - loss: 1.4356 - accuracy: 0.4845 - val_loss: 1.4871 - val_accuracy: 0.5074\n",
      "Epoch 10/12\n",
      "37500/37500 [==============================] - 21s 566us/step - loss: 1.4057 - accuracy: 0.4962 - val_loss: 1.4431 - val_accuracy: 0.5254\n",
      "Epoch 11/12\n",
      "37500/37500 [==============================] - 21s 561us/step - loss: 1.3750 - accuracy: 0.5058 - val_loss: 1.4103 - val_accuracy: 0.5381\n",
      "Epoch 12/12\n",
      "37500/37500 [==============================] - 21s 557us/step - loss: 1.3531 - accuracy: 0.5126 - val_loss: 1.3905 - val_accuracy: 0.5445\n"
     ]
    },
    {
     "data": {
      "text/plain": [
       "'\\n參數:\\nepochs=12 : 設定跑12個訓練週期\\nbatch_size=128 : 設定每一批次抓取128筆資料\\nverbose=2 : 設定顯示每一筆訓練過程\\n'"
      ]
     },
     "execution_count": 20,
     "metadata": {},
     "output_type": "execute_result"
    }
   ],
   "source": [
    "#模型訓練, \"Train_History\" 把訓練過程所得到的數值存起來\n",
    "train_history=model.fit(x_img_train_normalize, \n",
    "                        y_label_train_OneHot, \n",
    "                        validation_split=0.25,\n",
    "                        epochs=12, batch_size=128, verbose=1)     \n",
    "'''\n",
    "參數:\n",
    "epochs=12 : 設定跑12個訓練週期\n",
    "batch_size=128 : 設定每一批次抓取128筆資料\n",
    "verbose=2 : 設定顯示每一筆訓練過程\n",
    "'''\n",
    "\n",
    "#[validation_split = 0.2] validation_split：在0和1之間浮動。用作驗證數據的訓練數據的分數。\n",
    "#該模型將訓練數據的這一部分分開，不會對其進行訓練，並將在每個時期結束時評估該數據的損失和任何模型指標。\n",
    "#[batch_size]：整數或None。每個梯度更新的樣本數。指定，batch_size為128"
   ]
  },
  {
   "cell_type": "code",
   "execution_count": 21,
   "metadata": {},
   "outputs": [],
   "source": [
    "import matplotlib.pyplot as plt\n",
    "%matplotlib inline\n",
    "\n",
    "#手動建立一個函數顯示訓練結果\n",
    "#定義一個繪圖函數\n",
    "def show_train_history(train_acc,test_acc):\n",
    "    plt.plot(train_history.history[train_acc]) # 畫出訓練資料的執行結果\n",
    "    plt.plot(train_history.history[test_acc]) # 畫出驗證資料的執行結果\n",
    "    plt.title('Train History') # 顯示圖的標題\n",
    "    plt.ylabel('Accuracy') # 設定y軸標籤\n",
    "    plt.xlabel('Epoch') # 設定x軸標籤\n",
    "    plt.legend(['train_acc', 'val_acc'], loc='upper left') # 把圖例的位置放在左上角\n",
    "    plt.show() # 把圖給畫出來"
   ]
  },
  {
   "cell_type": "code",
   "execution_count": 22,
   "metadata": {},
   "outputs": [
    {
     "data": {
      "image/png": "[encoded data removed]",
      "text/plain": [
       "<Figure size 432x288 with 1 Axes>"
      ]
     },
     "metadata": {
      "needs_background": "light"
     },
     "output_type": "display_data"
    }
   ],
   "source": [
    "# 接著利用前面建立的函數把accuracy的結果畫出來\n",
    "show_train_history('accuracy','val_accuracy')"
   ]
  },
  {
   "cell_type": "code",
   "execution_count": 23,
   "metadata": {},
   "outputs": [
    {
     "data": {
      "image/png": "[encoded data removed]",
      "text/plain": [
       "<Figure size 432x288 with 1 Axes>"
      ]
     },
     "metadata": {
      "needs_background": "light"
     },
     "output_type": "display_data"
    }
   ],
   "source": [
    "# 接著利用前面建立的函數把loss的結果畫出來\n",
    "show_train_history('loss','val_loss')"
   ]
  },
  {
   "cell_type": "code",
   "execution_count": 27,
   "metadata": {},
   "outputs": [
    {
     "ename": "IndentationError",
     "evalue": "unexpected indent (<ipython-input-27-ad3dd9eacee0>, line 2)",
     "output_type": "error",
     "traceback": [
      "\u001b[1;36m  File \u001b[1;32m\"<ipython-input-27-ad3dd9eacee0>\"\u001b[1;36m, line \u001b[1;32m2\u001b[0m\n\u001b[1;33m    epochs=12, batch_size=128, verbose=1)\u001b[0m\n\u001b[1;37m    ^\u001b[0m\n\u001b[1;31mIndentationError\u001b[0m\u001b[1;31m:\u001b[0m unexpected indent\n"
     ]
    }
   ],
   "source": [
    "model.compile(loss='mean_squared_error', optimizer='sgd', metrics=['accuracy'])\n",
    "                        epochs=12, batch_size=128, verbose=1)\n",
    "'''\n",
    "參數:\n",
    "loss='categorical_crossentropy' : 設定損失函數，這邊使用cross entropy的效果比較好\n",
    "optimizer='adam' :   使用adam為最優化方法\n",
    "metrics=['accuracy'] 設定評估模型的方式是準確率\n",
    "'''\n",
    "train_history = model.fit(x_img_train_normalize, \n",
    "                          y_label_train_OneHot,\n",
    "                          validation_split=0.25,\n",
    "                          epochs=12,\n",
    "                          batch_size=128,\n",
    "                          verbose=2)\n",
    "'''\n",
    "參數:\n",
    "epochs=12 : 設定跑12個訓練週期\n",
    "batch_size=128 : 設定每一批次抓取128筆資料\n",
    "verbose=2 : 設定顯示每一筆訓練過程\n",
    "'''\n",
    "\n",
    "# [validation_split = 0.2] validation_split：在0和1之間浮動。用作驗證數據的訓練數據的分數。\n",
    "# 該模型將訓練數據的這一部分分開，不會對其進行訓練，並將在每個時期結束時評估該數據的損失和任何模型指標。\n",
    "# [batch_size]：整數或None。每個梯度更新的樣本數。指定，batch_size為128"
   ]
  },
  {
   "cell_type": "code",
   "execution_count": 70,
   "metadata": {},
   "outputs": [
    {
     "data": {
      "image/png": "[encoded data removed]",
      "text/plain": [
       "<Figure size 432x288 with 1 Axes>"
      ]
     },
     "metadata": {
      "needs_background": "light"
     },
     "output_type": "display_data"
    }
   ],
   "source": [
    "# 接著利用前面建立的函數把accuracy的結果畫出來\n",
    "show_train_history('accuracy','val_accuracy')"
   ]
  },
  {
   "cell_type": "code",
   "execution_count": 71,
   "metadata": {},
   "outputs": [
    {
     "data": {
      "image/png": "[encoded data removed]",
      "text/plain": [
       "<Figure size 432x288 with 1 Axes>"
      ]
     },
     "metadata": {
      "needs_background": "light"
     },
     "output_type": "display_data"
    }
   ],
   "source": [
    "# 接著利用前面建立的函數把loss的結果畫出來\n",
    "show_train_history('loss','val_loss')"
   ]
  },
  {
   "cell_type": "code",
   "execution_count": 113,
   "metadata": {},
   "outputs": [
    {
     "name": "stdout",
     "output_type": "stream",
     "text": [
      "Train on 37500 samples, validate on 12500 samples\n",
      "Epoch 1/12\n",
      "37500/37500 [==============================] - 35s 927us/step - loss: 0.3254 - accuracy: 0.9000 - val_loss: 0.3224 - val_accuracy: 0.9000\n",
      "Epoch 2/12\n",
      "37500/37500 [==============================] - 34s 904us/step - loss: 0.3203 - accuracy: 0.9000 - val_loss: 0.3193 - val_accuracy: 0.9000\n",
      "Epoch 3/12\n",
      "37500/37500 [==============================] - 35s 921us/step - loss: 0.3152 - accuracy: 0.9000 - val_loss: 0.3151 - val_accuracy: 0.9000\n",
      "Epoch 4/12\n",
      "37500/37500 [==============================] - 34s 914us/step - loss: 0.3086 - accuracy: 0.9000 - val_loss: 0.3095 - val_accuracy: 0.9000\n",
      "Epoch 5/12\n",
      "37500/37500 [==============================] - 34s 919us/step - loss: 0.3023 - accuracy: 0.9000 - val_loss: 0.3041 - val_accuracy: 0.9000\n",
      "Epoch 6/12\n",
      "37500/37500 [==============================] - 35s 938us/step - loss: 0.2969 - accuracy: 0.9001 - val_loss: 0.2994 - val_accuracy: 0.9000\n",
      "Epoch 7/12\n",
      "37500/37500 [==============================] - 35s 927us/step - loss: 0.2933 - accuracy: 0.9002 - val_loss: 0.2964 - val_accuracy: 0.9000\n",
      "Epoch 8/12\n",
      "37500/37500 [==============================] - 34s 915us/step - loss: 0.2905 - accuracy: 0.9004 - val_loss: 0.2938 - val_accuracy: 0.9000\n",
      "Epoch 9/12\n",
      "37500/37500 [==============================] - 34s 914us/step - loss: 0.2881 - accuracy: 0.9005 - val_loss: 0.2918 - val_accuracy: 0.9000\n",
      "Epoch 10/12\n",
      "37500/37500 [==============================] - 34s 913us/step - loss: 0.2863 - accuracy: 0.9007 - val_loss: 0.2904 - val_accuracy: 0.9000\n",
      "Epoch 11/12\n",
      "37500/37500 [==============================] - 34s 920us/step - loss: 0.2844 - accuracy: 0.9007 - val_loss: 0.2885 - val_accuracy: 0.9001\n",
      "Epoch 12/12\n",
      "37500/37500 [==============================] - 35s 945us/step - loss: 0.2823 - accuracy: 0.9009 - val_loss: 0.2869 - val_accuracy: 0.9001\n"
     ]
    },
    {
     "data": {
      "text/plain": [
       "'\\n參數:\\nepochs=12 : 設定跑12個訓練週期\\nbatch_size=128 : 設定每一批次抓取128筆資料\\nverbose=2 : 設定顯示每一筆訓練過程\\n'"
      ]
     },
     "execution_count": 113,
     "metadata": {},
     "output_type": "execute_result"
    }
   ],
   "source": [
    "model.compile(loss='binary_crossentropy',optimizer='sgd', metrics=['accuracy'])\n",
    "                        \n",
    "'''\n",
    "參數:\n",
    "loss='categorical_crossentropy' : 設定損失函數，這邊使用cross entropy的效果比較好\n",
    "optimizer='adam' :   使用adam為最優化方法\n",
    "metrics=['accuracy'] 設定評估模型的方式是準確率\n",
    "'''\n",
    "train_history = model.fit(x_img_train_normalize, y_label_train_OneHot,\n",
    "                        validation_split=0.25,\n",
    "                        epochs=12, batch_size=128, verbose=1)\n",
    "'''\n",
    "參數:\n",
    "epochs=12 : 設定跑12個訓練週期\n",
    "batch_size=128 : 設定每一批次抓取128筆資料\n",
    "verbose=2 : 設定顯示每一筆訓練過程\n",
    "'''\n",
    "\n",
    "#[validation_split = 0.2] validation_split：在0和1之間浮動。用作驗證數據的訓練數據的分數。\n",
    "#該模型將訓練數據的這一部分分開，不會對其進行訓練，並將在每個時期結束時評估該數據的損失和任何模型指標。\n",
    "#[batch_size]：整數或None。每個梯度更新的樣本數。指定，batch_size為128"
   ]
  },
  {
   "cell_type": "code",
   "execution_count": 114,
   "metadata": {},
   "outputs": [
    {
     "data": {
      "image/png": "[encoded data removed]",
      "text/plain": [
       "<Figure size 432x288 with 1 Axes>"
      ]
     },
     "metadata": {
      "needs_background": "light"
     },
     "output_type": "display_data"
    }
   ],
   "source": [
    "# 接著利用前面建立的函數把accuracy的結果畫出來\n",
    "show_train_history('accuracy','val_accuracy')"
   ]
  },
  {
   "cell_type": "code",
   "execution_count": 115,
   "metadata": {},
   "outputs": [
    {
     "data": {
      "image/png": "[encoded data removed]",
      "text/plain": [
       "<Figure size 432x288 with 1 Axes>"
      ]
     },
     "metadata": {
      "needs_background": "light"
     },
     "output_type": "display_data"
    }
   ],
   "source": [
    "# 接著利用前面建立的函數把loss的結果畫出來\n",
    "show_train_history('loss','val_loss')"
   ]
  },
  {
   "cell_type": "code",
   "execution_count": null,
   "metadata": {},
   "outputs": [],
   "source": []
  }
 ],
 "metadata": {
  "colab": {
   "name": "Day71-使用損失函數_HW.ipynb",
   "provenance": [],
   "version": "0.3.2"
  },
  "kernelspec": {
   "display_name": "Python 3",
   "language": "python",
   "name": "python3"
  },
  "language_info": {
   "codemirror_mode": {
    "name": "ipython",
    "version": 3
   },
   "file_extension": ".py",
   "mimetype": "text/x-python",
   "name": "python",
   "nbconvert_exporter": "python",
   "pygments_lexer": "ipython3",
   "version": "3.7.6"
  }
 },
 "nbformat": 4,
 "nbformat_minor": 1
}
