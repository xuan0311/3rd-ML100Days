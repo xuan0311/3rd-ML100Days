{
 "cells": [
  {
   "cell_type": "code",
   "execution_count": 3,
   "metadata": {},
   "outputs": [],
   "source": [
    "import keras\n",
    "from keras.datasets import cifar10\n",
    "from keras.preprocessing.image import ImageDataGenerator\n",
    "from keras.models import Sequential\n",
    "from keras.layers import Dense, Dropout, Activation, Flatten\n",
    "from keras.layers import Conv2D, MaxPooling2D\n",
    "from keras.optimizers import RMSprop, Adam\n",
    "import os"
   ]
  },
  {
   "cell_type": "code",
   "execution_count": 9,
   "metadata": {},
   "outputs": [
    {
     "name": "stdout",
     "output_type": "stream",
     "text": [
      "x_train shape: (50000, 32, 32, 3)\n",
      "50000 train samples\n",
      "10000 test samples\n"
     ]
    }
   ],
   "source": [
    "batch_size = 128 # batch 的大小，如果出現 OOM error，請降低這個值\n",
    "num_classes = 10 # 類別的數量，Cifar 10 共有 10 個類別\n",
    "epochs = 10 # 訓練的 epochs 數量，定義訓練週期\n",
    "\n",
    "# 讀取資料並檢視\n",
    "(x_train, y_train), (x_test, y_test) = cifar10.load_data()\n",
    "print('x_train shape:', x_train.shape)\n",
    "print(x_train.shape[0], 'train samples')\n",
    "print(x_test.shape[0], 'test samples')\n",
    "\n",
    "# 對 label 進行 one-hot encoding (y_trian 原本是純數字)\n",
    "y_train = keras.utils.to_categorical(y_train, num_classes)\n",
    "y_test = keras.utils.to_categorical(y_test, num_classes)"
   ]
  },
  {
   "cell_type": "markdown",
   "metadata": {},
   "source": [
    "## 首先我們使用一般的 DNN (MLP) 來訓練\n",
    "由於 DNN 只能輸入一維的資料，我們要先將影像進行攤平，若 (50000, 32, 32, 3) 的影像，攤平後會變成 (50000, 32 x32 x 3) = (50000, 3072)"
   ]
  },
  {
   "cell_type": "code",
   "execution_count": 3,
   "metadata": {},
   "outputs": [
    {
     "name": "stdout",
     "output_type": "stream",
     "text": [
      "50000 train samples\n",
      "10000 test samples\n"
     ]
    }
   ],
   "source": [
    "# 將資料攤平成一維資料\n",
    "x_train = x_train.reshape(50000, 3072) \n",
    "x_test = x_test.reshape(10000, 3072)\n",
    "\n",
    "# 將資料變為 float32 並標準化\n",
    "x_train = x_train.astype('float32')\n",
    "x_test = x_test.astype('float32')\n",
    "x_train /= 255\n",
    "x_test /= 255\n",
    "print(x_train.shape[0], 'train samples')\n",
    "print(x_test.shape[0], 'test samples')"
   ]
  },
  {
   "cell_type": "code",
   "execution_count": 4,
   "metadata": {},
   "outputs": [
    {
     "name": "stdout",
     "output_type": "stream",
     "text": [
      "WARNING:tensorflow:From C:\\ProgramData\\Anaconda3\\lib\\site-packages\\tensorflow\\python\\ops\\resource_variable_ops.py:435: colocate_with (from tensorflow.python.framework.ops) is deprecated and will be removed in a future version.\n",
      "Instructions for updating:\n",
      "Colocations handled automatically by placer.\n",
      "Model: \"sequential_1\"\n",
      "_________________________________________________________________\n",
      "Layer (type)                 Output Shape              Param #   \n",
      "=================================================================\n",
      "dense_1 (Dense)              (None, 512)               1573376   \n",
      "_________________________________________________________________\n",
      "dropout_1 (Dropout)          (None, 512)               0         \n",
      "_________________________________________________________________\n",
      "dense_2 (Dense)              (None, 512)               262656    \n",
      "_________________________________________________________________\n",
      "dropout_2 (Dropout)          (None, 512)               0         \n",
      "_________________________________________________________________\n",
      "dense_3 (Dense)              (None, 10)                5130      \n",
      "=================================================================\n",
      "Total params: 1,841,162\n",
      "Trainable params: 1,841,162\n",
      "Non-trainable params: 0\n",
      "_________________________________________________________________\n",
      "WARNING:tensorflow:From C:\\ProgramData\\Anaconda3\\lib\\site-packages\\tensorflow\\python\\ops\\math_ops.py:3066: to_int32 (from tensorflow.python.ops.math_ops) is deprecated and will be removed in a future version.\n",
      "Instructions for updating:\n",
      "Use tf.cast instead.\n",
      "Train on 50000 samples, validate on 10000 samples\n",
      "Epoch 1/10\n",
      "50000/50000 [==============================] - 3s 59us/step - loss: 2.2034 - accuracy: 0.2498 - val_loss: 1.8602 - val_accuracy: 0.3227\n",
      "Epoch 2/10\n",
      "50000/50000 [==============================] - 2s 49us/step - loss: 1.8640 - accuracy: 0.3256 - val_loss: 1.7449 - val_accuracy: 0.3766\n",
      "Epoch 3/10\n",
      "50000/50000 [==============================] - 2s 49us/step - loss: 1.7874 - accuracy: 0.3545 - val_loss: 1.7266 - val_accuracy: 0.3871\n",
      "Epoch 4/10\n",
      "50000/50000 [==============================] - 2s 48us/step - loss: 1.7384 - accuracy: 0.3754 - val_loss: 1.6680 - val_accuracy: 0.4157\n",
      "Epoch 5/10\n",
      "50000/50000 [==============================] - 2s 48us/step - loss: 1.7036 - accuracy: 0.3908 - val_loss: 1.6278 - val_accuracy: 0.4262\n",
      "Epoch 6/10\n",
      "50000/50000 [==============================] - 2s 48us/step - loss: 1.6740 - accuracy: 0.4021 - val_loss: 1.6189 - val_accuracy: 0.4145\n",
      "Epoch 7/10\n",
      "50000/50000 [==============================] - 2s 49us/step - loss: 1.6488 - accuracy: 0.4112 - val_loss: 1.5627 - val_accuracy: 0.4470\n",
      "Epoch 8/10\n",
      "50000/50000 [==============================] - 2s 49us/step - loss: 1.6327 - accuracy: 0.4142 - val_loss: 1.5799 - val_accuracy: 0.4401\n",
      "Epoch 9/10\n",
      "50000/50000 [==============================] - 2s 49us/step - loss: 1.6220 - accuracy: 0.4212 - val_loss: 1.5977 - val_accuracy: 0.4238\n",
      "Epoch 10/10\n",
      "50000/50000 [==============================] - 2s 48us/step - loss: 1.6014 - accuracy: 0.4287 - val_loss: 1.5347 - val_accuracy: 0.4625\n",
      "Test loss: 1.5347423181533812\n",
      "Test accuracy: 0.4625000059604645\n"
     ]
    }
   ],
   "source": [
    "model = Sequential() # 建立簡單的線性執行的模型\n",
    "model.add(Dense(512, activation='relu', input_shape=(3072,))) # 全連接層: 512個output變數\n",
    "model.add(Dropout(0.2)) # Dropout層隨機斷開輸入神經元，用於防止過度擬合，斷開比例:0.2。\n",
    "model.add(Dense(512, activation='relu')) # 全連接層: 512個output變數\n",
    "model.add(Dropout(0.2))  # Dropout層隨機斷開輸入神經元，用於防止過度擬合，斷開比例:0.2。\n",
    "model.add(Dense(num_classes, activation='softmax')) # 全連接層: 10個output變數，使用 softmax activation function，將結果分類\n",
    "model.summary()\n",
    "\n",
    "# 編譯: 選擇損失函數、優化方法及成效衡量方式\n",
    "# 確立目標及求解方法：以compile函數定義損失函數(loss)、優化函數(optimizer)及成效衡量指標(mertrics)。\n",
    "model.compile(loss='categorical_crossentropy',\n",
    "              optimizer=RMSprop(),\n",
    "              metrics=['accuracy'])\n",
    "\n",
    "# 訓練：以compile函數進行訓練，指定訓練的樣本資料(x, y)，並撥一部分資料作驗證，還有要訓練幾個週期、訓練資料的抽樣方式。\n",
    "# 訓練過程會存在 history 變數中\n",
    "history = model.fit(x_train, y_train,\n",
    "                    batch_size=batch_size,\n",
    "                    epochs=epochs, \n",
    "                    verbose=1,\n",
    "                    validation_data=(x_test, y_test))\n",
    "\n",
    "# 顯示損失函數、訓練成果(分數)\n",
    "# verbose：日誌顯示，0為不在標準輸出流輸出日誌信息，1為輸出進度條記錄，2為每個epoch輸出一行記錄。\n",
    "score = model.evaluate(x_test, y_test, verbose=0)\n",
    "print('Test loss:', score[0])\n",
    "print('Test accuracy:', score[1])"
   ]
  },
  {
   "cell_type": "markdown",
   "metadata": {},
   "source": [
    "## 接下來我們使用 CNN 來訓練神經網路\n",
    "CNN 的原理非常適合處理影像類的資料，就讓我們來看看，同樣的訓練條件，CNN 是否顯著優於 DNN 呢?"
   ]
  },
  {
   "cell_type": "code",
   "execution_count": 10,
   "metadata": {},
   "outputs": [
    {
     "name": "stdout",
     "output_type": "stream",
     "text": [
      "x_train shape: (50000, 32, 32, 3)\n",
      "50000 train samples\n",
      "10000 test samples\n"
     ]
    }
   ],
   "source": [
    "(x_train, y_train), (x_test, y_test) = cifar10.load_data()\n",
    "print('x_train shape:', x_train.shape)\n",
    "print(x_train.shape[0], 'train samples')\n",
    "print(x_test.shape[0], 'test samples')\n",
    "\n",
    "# 將資料變為 float32 並標準化\n",
    "x_train = x_train.astype('float32')\n",
    "x_test = x_test.astype('float32')\n",
    "# 轉換色彩 0~255 資料為 0~1\n",
    "x_train /= 255\n",
    "x_test /= 255\n",
    "\n",
    "# Convert class vectors to binary class matrices.\n",
    "# y 值轉成 one-hot encoding，轉成10類\n",
    "y_train = keras.utils.to_categorical(y_train, num_classes)\n",
    "y_test = keras.utils.to_categorical(y_test, num_classes)"
   ]
  },
  {
   "cell_type": "code",
   "execution_count": 11,
   "metadata": {
    "scrolled": false
   },
   "outputs": [
    {
     "name": "stdout",
     "output_type": "stream",
     "text": [
      "Model: \"sequential_4\"\n",
      "_________________________________________________________________\n",
      "Layer (type)                 Output Shape              Param #   \n",
      "=================================================================\n",
      "conv2d_3 (Conv2D)            (None, 32, 32, 32)        896       \n",
      "_________________________________________________________________\n",
      "activation_1 (Activation)    (None, 32, 32, 32)        0         \n",
      "_________________________________________________________________\n",
      "conv2d_4 (Conv2D)            (None, 30, 30, 32)        9248      \n",
      "_________________________________________________________________\n",
      "activation_2 (Activation)    (None, 30, 30, 32)        0         \n",
      "_________________________________________________________________\n",
      "max_pooling2d_1 (MaxPooling2 (None, 15, 15, 32)        0         \n",
      "_________________________________________________________________\n",
      "dropout_3 (Dropout)          (None, 15, 15, 32)        0         \n",
      "_________________________________________________________________\n",
      "conv2d_5 (Conv2D)            (None, 15, 15, 64)        18496     \n",
      "_________________________________________________________________\n",
      "activation_3 (Activation)    (None, 15, 15, 64)        0         \n",
      "_________________________________________________________________\n",
      "conv2d_6 (Conv2D)            (None, 13, 13, 64)        36928     \n",
      "_________________________________________________________________\n",
      "activation_4 (Activation)    (None, 13, 13, 64)        0         \n",
      "_________________________________________________________________\n",
      "max_pooling2d_2 (MaxPooling2 (None, 6, 6, 64)          0         \n",
      "_________________________________________________________________\n",
      "dropout_4 (Dropout)          (None, 6, 6, 64)          0         \n",
      "_________________________________________________________________\n",
      "flatten_1 (Flatten)          (None, 2304)              0         \n",
      "_________________________________________________________________\n",
      "dense_4 (Dense)              (None, 512)               1180160   \n",
      "_________________________________________________________________\n",
      "activation_5 (Activation)    (None, 512)               0         \n",
      "_________________________________________________________________\n",
      "dropout_5 (Dropout)          (None, 512)               0         \n",
      "_________________________________________________________________\n",
      "dense_5 (Dense)              (None, 10)                5130      \n",
      "_________________________________________________________________\n",
      "activation_6 (Activation)    (None, 10)                0         \n",
      "=================================================================\n",
      "Total params: 1,250,858\n",
      "Trainable params: 1,250,858\n",
      "Non-trainable params: 0\n",
      "_________________________________________________________________\n",
      "Train on 50000 samples, validate on 10000 samples\n",
      "Epoch 1/10\n",
      "50000/50000 [==============================] - 11s 215us/step - loss: 1.7602 - accuracy: 0.3662 - val_loss: 1.4793 - val_accuracy: 0.4566\n",
      "Epoch 2/10\n",
      "50000/50000 [==============================] - 9s 175us/step - loss: 1.3291 - accuracy: 0.5280 - val_loss: 1.1836 - val_accuracy: 0.5842\n",
      "Epoch 3/10\n",
      "50000/50000 [==============================] - 9s 174us/step - loss: 1.1205 - accuracy: 0.6090 - val_loss: 0.9496 - val_accuracy: 0.6747\n",
      "Epoch 4/10\n",
      "50000/50000 [==============================] - 9s 173us/step - loss: 0.9825 - accuracy: 0.6576 - val_loss: 0.9739 - val_accuracy: 0.6648\n",
      "Epoch 5/10\n",
      "50000/50000 [==============================] - 9s 173us/step - loss: 0.8838 - accuracy: 0.6927 - val_loss: 1.0784 - val_accuracy: 0.6342\n",
      "Epoch 6/10\n",
      "50000/50000 [==============================] - 9s 174us/step - loss: 0.8210 - accuracy: 0.7157 - val_loss: 0.7683 - val_accuracy: 0.7365\n",
      "Epoch 7/10\n",
      "50000/50000 [==============================] - 9s 181us/step - loss: 0.7632 - accuracy: 0.7362 - val_loss: 0.7520 - val_accuracy: 0.7458\n",
      "Epoch 8/10\n",
      "50000/50000 [==============================] - 9s 178us/step - loss: 0.7200 - accuracy: 0.7503 - val_loss: 0.7227 - val_accuracy: 0.7551\n",
      "Epoch 9/10\n",
      "50000/50000 [==============================] - 9s 174us/step - loss: 0.6894 - accuracy: 0.7613 - val_loss: 0.7114 - val_accuracy: 0.7565\n",
      "Epoch 10/10\n",
      "50000/50000 [==============================] - 9s 175us/step - loss: 0.6634 - accuracy: 0.7713 - val_loss: 0.7510 - val_accuracy: 0.7498\n",
      "Test loss: 0.7509922428131104\n",
      "Test accuracy: 0.7498000264167786\n"
     ]
    }
   ],
   "source": [
    "# 建立簡單的線性執行的模型\n",
    "model = Sequential()\n",
    "# 建立卷積層，filter=32,即 output space 的深度, Kernal Size: 3x3, padding='same'不足的空間用 0填充一列\n",
    "model.add(Conv2D(32, (3, 3), padding='same',input_shape=x_train.shape[1:]))\n",
    "# activation function 採用 relu\n",
    "model.add(Activation('relu'))\n",
    "# 建立卷積層，filter=32,,即 output size, Kernal Size: 3x3\n",
    "model.add(Conv2D(32, (3, 3)))\n",
    "# activation function 採用 relu\n",
    "model.add(Activation('relu'))\n",
    "# 建立池化層，池化大小=2x2，取最大值\n",
    "model.add(MaxPooling2D(pool_size=(2, 2)))\n",
    "# 隨機斷開輸入神經元，用於防止過度擬合，斷開比例:0.25\n",
    "model.add(Dropout(0.25))\n",
    "\n",
    "# 建立卷積層，filter=64,即 output size, Kernal Size: 3x3, padding='same'不足的空間用 0填充一列\n",
    "model.add(Conv2D(64, (3, 3), padding='same'))\n",
    "# activation function 採用 relu\n",
    "model.add(Activation('relu'))\n",
    "# 建立卷積層，filter=64,即 output size, Kernal Size: 3x3\n",
    "model.add(Conv2D(64, (3, 3)))\n",
    "# activation function 採用 relu\n",
    "model.add(Activation('relu'))\n",
    "# 建立池化層，池化大小=2x2，取最大值\n",
    "model.add(MaxPooling2D(pool_size=(2, 2)))\n",
    "# 隨機斷開輸入神經元，用於防止過度擬合，斷開比例:0.25\n",
    "model.add(Dropout(0.25))\n",
    "\n",
    "# 把多維的輸入一維化，常用在從卷積層到全連接層的過渡。\n",
    "model.add(Flatten())\n",
    "# 全連接層: 512個output\n",
    "model.add(Dense(512))\n",
    "# activation function 採用 relu\n",
    "model.add(Activation('relu'))\n",
    "# 隨機斷開輸入神經元，用於防止過度擬合，斷開比例:0.5\n",
    "model.add(Dropout(0.5))\n",
    "# 使用 softmax activation function，並將結果分類\n",
    "model.add(Dense(num_classes))\n",
    "model.add(Activation('softmax'))\n",
    "# 輸出模型概況\n",
    "model.summary()\n",
    "\n",
    "# 編譯: 選擇損失函數、優化方法及成效衡量方式\n",
    "# 確立目標及求解方法：以compile函數定義損失函數(loss)、優化函數(optimizer)及成效衡量指標(mertrics)。\n",
    "model.compile(loss='categorical_crossentropy',\n",
    "              optimizer=RMSprop(),\n",
    "              metrics=['accuracy'])\n",
    "\n",
    "# 訓練：以compile函數進行訓練，指定訓練的樣本資料(x, y)，並撥一部分資料作驗證，還有要訓練幾個週期、訓練資料的抽樣方式。\n",
    "# 訓練過程會存在 history 變數中\n",
    "history = model.fit(x_train, y_train,\n",
    "                    batch_size=batch_size,\n",
    "                    epochs=epochs,\n",
    "                    verbose=1,\n",
    "                    validation_data=(x_test, y_test))\n",
    "\n",
    "# 顯示損失函數、訓練成果(分數)\n",
    "# verbose：日誌顯示，0為不在標準輸出流輸出日誌信息，1為輸出進度條記錄，2為每個epoch輸出一行記錄。\n",
    "score = model.evaluate(x_test, y_test, verbose=0)\n",
    "print('Test loss:', score[0])\n",
    "print('Test accuracy:', score[1])\n"
   ]
  },
  {
   "cell_type": "code",
   "execution_count": 12,
   "metadata": {},
   "outputs": [],
   "source": [
    "# 模型結構存檔\n",
    "from keras.models import model_from_json\n",
    "json_string = model.to_json()\n",
    "with open(\"cnn.config\", \"w\") as text_file:\n",
    "    text_file.write(json_string)\n",
    "\n",
    "# 模型訓練結果存檔\n",
    "model.save_weights(\"cnn.weight\")"
   ]
  },
  {
   "cell_type": "markdown",
   "metadata": {},
   "source": [
    "## 同樣運算 10 個 epochs，但 CNN 在 test data 的準確率顯著優於 DNN!"
   ]
  },
  {
   "cell_type": "markdown",
   "metadata": {},
   "source": [
    "## 作業\n",
    "1. 請試著調整各個超參數，並說明那些超參數對於結果有明顯的影響?\n",
    "2. CNN 與 DNN 哪個模型的參數數量比較多? 造成參數的數量不同的原因在哪?"
   ]
  },
  {
   "cell_type": "markdown",
   "metadata": {},
   "source": [
    "# Ans"
   ]
  },
  {
   "cell_type": "markdown",
   "metadata": {},
   "source": [
    "1. batch size:會影響收斂、drop_out:會模型結果有一些影響。\n",
    "\n",
    "2. CNN模型的參數數量:1250858、DNN模型的參數數量:1841162，兩者相比DNN模型的參數數量比較多，其可能原因在於CNN在做捲積時，已經先減少參數數量，縮小了特徵圖大小。"
   ]
  },
  {
   "cell_type": "markdown",
   "metadata": {},
   "source": [
    "# 參考解答\n",
    "1. 可以調整的有: Conv2D 的層數、filters 數量、stride 大小、學習率的大小、優化器的選擇、Dropout 的比率等等。其中 Conv2D 的層數與優化器的選擇對結果會有較明顯的影響。\n",
    "2. DNN 的參數量較多，可以看出 CNN 在做卷機時，透過較小的參數量就可以逐步縮小影像大小，讓最後再接上 Dense 層時不要有過多的參數。"
   ]
  },
  {
   "cell_type": "code",
   "execution_count": null,
   "metadata": {},
   "outputs": [],
   "source": []
  }
 ],
 "metadata": {
  "kernelspec": {
   "display_name": "Python 3",
   "language": "python",
   "name": "python3"
  },
  "language_info": {
   "codemirror_mode": {
    "name": "ipython",
    "version": 3
   },
   "file_extension": ".py",
   "mimetype": "text/x-python",
   "name": "python",
   "nbconvert_exporter": "python",
   "pygments_lexer": "ipython3",
   "version": "3.7.6"
  }
 },
 "nbformat": 4,
 "nbformat_minor": 2
}
