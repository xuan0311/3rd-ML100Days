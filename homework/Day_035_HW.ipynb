{
 "cells": [
  {
   "cell_type": "markdown",
   "metadata": {},
   "source": [
    "## 練習時間\n",
    "相信大家對回歸問題及分類問題都有初步的了解。今天的作業希望大家搜尋有關 multi-label 的案例問題。下圖是電影 \"奇異博士\" 的分類。可以看到同時有 \"Action\", \"Adventure\", \"Fantasy\" 的類別存在，代表這是個多標籤的問題。 "
   ]
  },
  {
   "cell_type": "markdown",
   "metadata": {},
   "source": [
    "![image](https://cdn-images-1.medium.com/max/1000/1*r0gYXMSQf5VhdMyl2bRDyg.png)"
   ]
  },
  {
   "cell_type": "markdown",
   "metadata": {},
   "source": [
    "## 請搜尋目標為多標籤問題 (Multi-label) 的機器學習案例，了解其資料來源、目標以及評估指標為何\n",
    "## Hint: 服飾"
   ]
  },
  {
   "cell_type": "markdown",
   "metadata": {},
   "source": [
    "基於keras實現多標籤分類（multi-label classification）\n",
    "網址: https://www.itread01.com/content/1542075307.html 、 https://kknews.cc/zh-tw/code/ygpkm4j.html\n",
    "        \n",
    "資料來源:通過python爬蟲在網站上抓取得到\n",
    "\n",
    "資料集包含六個類別的2,167個影象，包括：\n",
    "\n",
    "黑色牛仔褲（344影象）\n",
    "藍色連衣裙（386影象）\n",
    "藍色牛仔褲（356影象）\n",
    "藍色襯衫（369影象）\n",
    "紅色連衣裙（380影象）\n",
    "紅色襯衫（332影象）\n",
    "\n",
    "目標: 訓練一個分類器來將物品分到不同的類別中：\n",
    "\n",
    "服飾類別：襯衫、裙子、褲子、鞋類等\n",
    "\n",
    "顏色：紅、藍、黑等\n",
    "\n",
    "質地：棉、羊毛、絲、麻等\n",
    "\n",
    "評估指標: Accuracy\n",
    "\n",
    "\n",
    "\n"
   ]
  },
  {
   "cell_type": "code",
   "execution_count": null,
   "metadata": {},
   "outputs": [],
   "source": []
  }
 ],
 "metadata": {
  "kernelspec": {
   "display_name": "Python 3",
   "language": "python",
   "name": "python3"
  },
  "language_info": {
   "codemirror_mode": {
    "name": "ipython",
    "version": 3
   },
   "file_extension": ".py",
   "mimetype": "text/x-python",
   "name": "python",
   "nbconvert_exporter": "python",
   "pygments_lexer": "ipython3",
   "version": "3.7.6"
  }
 },
 "nbformat": 4,
 "nbformat_minor": 2
}
