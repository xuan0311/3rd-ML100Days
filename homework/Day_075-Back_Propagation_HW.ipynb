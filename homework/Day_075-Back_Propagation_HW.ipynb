{
 "cells": [
  {
   "cell_type": "markdown",
   "metadata": {},
   "source": [
    "# 作業目標:\n",
    "\n",
    "    通過建立多層的神經網路, 了解權值矩陣更新"
   ]
  },
  {
   "cell_type": "markdown",
   "metadata": {},
   "source": [
    "# 作業重點: \n",
    "\n",
    "3  層神經網路\n",
    "\n",
    "通過增加更多的中間層，以對更多關係的組合進行建模\n",
    "\n",
    "syn1 權值矩陣將隱層的組合輸出映射到最終結果，\n",
    "\n",
    "而在更新 syn1 的同時，還需要更新 syn0 權值矩陣，\n",
    "\n",
    "以從輸入資料中更好地產生這些組合"
   ]
  },
  {
   "cell_type": "code",
   "execution_count": 29,
   "metadata": {},
   "outputs": [],
   "source": [
    "import numpy as np\n",
    " \n",
    "# Sigmoid 函數可以將任何值都映射到一個位於 0 到  1 範圍內的值。通過它，我們可以將實數轉化為概率值\n",
    "def nonlin(x,deriv=False):\n",
    "    if(deriv==True):\n",
    "        return x*(1-x)\n",
    "    return 1/(1+np.exp(-x))\n",
    "\n",
    "X = np.array([  [0,0,1],\n",
    "                [0,1,1],\n",
    "                [1,0,1],\n",
    "                [1,1,1] ])  \n",
    "        \n",
    "# define y for output dataset            \n",
    "y=np.array([[0,0,1,1]]).T\n",
    "'''\n",
    "輸出資料集進行初始化\n",
    ".T” 為轉置函數。經轉置後，該  y  矩陣便包含 4 column 1 row。\n",
    "同我們的輸入一致，每一 column 是一個訓練實例，而每一row（僅有一row）對應一個輸出節點。\n",
    "因此，我們的網路含有 3 個輸入， 1 個輸出\n",
    "'''"
   ]
  },
  {
   "cell_type": "code",
   "execution_count": 30,
   "metadata": {},
   "outputs": [],
   "source": [
    "\n",
    "# seed random numbers to make calculation\n",
    "# deterministic (just a good practice)\n",
    "np.random.seed(1)\n",
    "#亂數設定產生種子得到的權重初始化集仍是隨機分佈的，\n",
    "#但每次開始訓練時，得到的權重初始集分佈都是完全一致的。\n",
    " \n",
    "# initialize weights randomly with mean 0\n",
    "#np.random.random((3,4))，生成3x4 的陣列，陣列元素從0~1\n",
    "#syn0權值的第一層，突觸0（Synapse0），連線l0與l1\n",
    "syn0 = 2*np.random.random((3,4)) - 1  #隨機初始化權重\n",
    "# define syn1\n",
    "syn1 = 2*np.random.random((4,1)) - 1  #隨機初始化權重\n",
    "\n",
    "iter = 0\n",
    "#該神經網路權重矩陣的初始化操作。\n",
    "#用 “syn0” 來代指 (即'輸入層-第一層隱層'間權重矩陣）\n",
    "#用 “syn1” 來代指 (即'輸入層-第二層隱層'間權重矩陣）\n",
    "syn0_history = [syn0]\n",
    "syn1_history = [syn1]"
   ]
  },
  {
   "cell_type": "code",
   "execution_count": 31,
   "metadata": {},
   "outputs": [
    {
     "data": {
      "text/plain": [
       "[array([[-0.16595599,  0.44064899, -0.99977125],\n",
       "        [-0.39533485, -0.70648822, -0.81532281],\n",
       "        [-0.62747958, -0.30887855, -0.20646505]])]"
      ]
     },
     "execution_count": 31,
     "metadata": {},
     "output_type": "execute_result"
    }
   ],
   "source": [
    "syn0_history"
   ]
  },
  {
   "cell_type": "code",
   "execution_count": 32,
   "metadata": {},
   "outputs": [
    {
     "data": {
      "text/plain": [
       "[array([[ 0.07763347, -0.16161097,  0.370439  ],\n",
       "        [-0.5910955 ,  0.75623487, -0.94522481],\n",
       "        [ 0.34093502, -0.1653904 ,  0.11737966]])]"
      ]
     },
     "execution_count": 32,
     "metadata": {},
     "output_type": "execute_result"
    }
   ],
   "source": [
    "syn1_history"
   ]
  },
  {
   "cell_type": "markdown",
   "metadata": {},
   "source": [
    "神經網路訓練\n",
    "for 迴圈反覆運算式地多次執行訓練代碼，使得我們的網路能更好地擬合訓練集"
   ]
  },
  {
   "cell_type": "code",
   "execution_count": 40,
   "metadata": {},
   "outputs": [
    {
     "name": "stdout",
     "output_type": "stream",
     "text": [
      "Output After Training:\n",
      "[[0.00679809 0.00679826 0.00679946]\n",
      " [0.00553562 0.00553493 0.00553585]\n",
      " [0.99548584 0.99548654 0.99548579]\n",
      " [0.99445503 0.99445505 0.99445408]]\n",
      "\n",
      "\n",
      "\n",
      "[[0.506032   0.50603182 0.50603194]\n",
      " [0.50491145 0.50491122 0.50491149]\n",
      " [0.97161784 0.97161785 0.97161784]\n",
      " [0.97151674 0.97151674 0.97151674]]\n"
     ]
    }
   ],
   "source": [
    "for iter in range(10000): #迭代次數\n",
    "    # forward propagation (正向傳播)\n",
    "    l0 = X #第一層節點，指定為輸入資料\n",
    "    \n",
    "    #神經網路的第二層，不然的話就是隱含層\n",
    "    l1 = nonlin(np.dot(l0,syn0)) #nonlin:非線性、np.dot:矩陣互乘\n",
    "    '''\n",
    "    l1是輸出量 ,nonlin(np.dot(l0,syn0))是輸入量l0與權值syn0相乘作為輸出節點激勵函數的自變量\n",
    "    '''\n",
    "    #計算輸出節點的輸出值\n",
    "    l2 = nonlin(np.dot(l1,syn1)) #nonlin:非線性、np.dot:矩陣互乘 \n",
    "    '''\n",
    "    新增\n",
    "    l2_error 該值說明了神經網路預測時“丟失”的數目。\n",
    "    l2_delta 該值為經確信度加權後的神經網路的誤差，除了確信誤差很小時，它近似等於預測誤差。\n",
    "    '''\n",
    " \n",
    "    # how much did we miss?\n",
    "    l1_error = y - l1 # l1_error誤差，計算與實際值的誤差\n",
    "    l2_error = y - l2 #l2_error誤差，計算與實際值的誤差\n",
    " \n",
    "    # multiply how much we missed by the \n",
    "    # slope of the sigmoid at the values in l1\n",
    "    #反向傳播\n",
    "    #利用梯度下降法，計算權重改變量，nonlin(l1,True)表示對輸出量求導數\n",
    "    #利用梯度下降法，計算權重改變量，nonlin(l2,True)表示對輸出量求導數\n",
    "    l1_delta = l1_error * nonlin(l1,True) #l1_delta 誤差校正係數\n",
    "    l2_delta = l2_error * nonlin(l2,True) #l2_delta 誤差校正係數\n",
    "    \n",
    "    # update weights\n",
    "    syn0 += np.dot(l0.T,l1_delta) #np.dot:矩陣互乘\n",
    "     # syn1 update weights\n",
    "    syn1 += np.dot(l1.T,l2_delta) #np.dot:矩陣互乘\n",
    "    \n",
    "print(\"Output After Training:\")\n",
    "print(l1)\n",
    "print(\"\\n\\n\")\n",
    "print(l2)\n"
   ]
  },
  {
   "cell_type": "code",
   "execution_count": 37,
   "metadata": {},
   "outputs": [
    {
     "data": {
      "image/png": "[encoded data removed]",
      "text/plain": [
       "<Figure size 432x288 with 1 Axes>"
      ]
     },
     "metadata": {
      "needs_background": "light"
     },
     "output_type": "display_data"
    }
   ],
   "source": [
    "import matplotlib.pyplot as plt\n",
    "%matplotlib inline \n",
    "#適用於 Jupyter Notebook, 宣告直接在cell 內印出執行結果\n",
    "\n",
    "plt.plot(syn0_history[0], ms=3, lw=1.5, color='black')\n",
    "plt.xlabel(r'$L1$', fontsize=16)\n",
    "plt.show()"
   ]
  },
  {
   "cell_type": "code",
   "execution_count": 39,
   "metadata": {},
   "outputs": [
    {
     "data": {
      "image/png": "[encoded data removed]",
      "text/plain": [
       "<Figure size 432x288 with 1 Axes>"
      ]
     },
     "metadata": {
      "needs_background": "light"
     },
     "output_type": "display_data"
    }
   ],
   "source": [
    "import matplotlib.pyplot as plt\n",
    "%matplotlib inline \n",
    "#適用於 Jupyter Notebook, 宣告直接在cell 內印出執行結果\n",
    "plt.plot(syn1_history[0], ms=5, lw=1.5, color='red')\n",
    "plt.xlabel(r'$L2$', fontsize=16)\n",
    "plt.show()"
   ]
  },
  {
   "cell_type": "markdown",
   "metadata": {},
   "source": [
    "參考來源:https://www.twblogs.net/a/5b7f1f122b717767c6ade146/zh-cn"
   ]
  },
  {
   "cell_type": "code",
   "execution_count": null,
   "metadata": {},
   "outputs": [],
   "source": []
  }
 ],
 "metadata": {
  "kernelspec": {
   "display_name": "Python 3",
   "language": "python",
   "name": "python3"
  },
  "language_info": {
   "codemirror_mode": {
    "name": "ipython",
    "version": 3
   },
   "file_extension": ".py",
   "mimetype": "text/x-python",
   "name": "python",
   "nbconvert_exporter": "python",
   "pygments_lexer": "ipython3",
   "version": "3.7.5"
  }
 },
 "nbformat": 4,
 "nbformat_minor": 2
}
