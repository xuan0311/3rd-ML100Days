{
 "cells": [
  {
   "cell_type": "markdown",
   "metadata": {},
   "source": [
    "## [作業重點]\n",
    "了解線性回歸的模型發展歷程，並了解優勢與劣勢，以及其使用情境"
   ]
  },
  {
   "cell_type": "markdown",
   "metadata": {},
   "source": [
    "## 作業"
   ]
  },
  {
   "cell_type": "markdown",
   "metadata": {},
   "source": [
    "請閱讀以下相關文獻，並回答以下問題\n",
    "\n",
    "[Linear Regression 詳細介紹](https://brohrer.mcknote.com/zh-Hant/how_machine_learning_works/how_linear_regression_works.html)\n",
    "\n",
    "[Logistics Regression 詳細介紹](https://medium.com/@yehjames/%E8%B3%87%E6%96%99%E5%88%86%E6%9E%90-%E6%A9%9F%E5%99%A8%E5%AD%B8%E7%BF%92-%E7%AC%AC3-3%E8%AC%9B-%E7%B7%9A%E6%80%A7%E5%88%86%E9%A1%9E-%E9%82%8F%E8%BC%AF%E6%96%AF%E5%9B%9E%E6%AD%B8-logistic-regression-%E4%BB%8B%E7%B4%B9-a1a5f47017e5)\n"
   ]
  },
  {
   "cell_type": "markdown",
   "metadata": {},
   "source": [
    "1. 線性回歸模型能夠準確預測非線性關係的資料集嗎?\n",
    "2. 回歸模型是否對資料分布有基本假設?\n"
   ]
  },
  {
   "cell_type": "markdown",
   "metadata": {},
   "source": [
    "****\n",
    "1.線性回歸模型能大約預測符合資料規律的直線，但是對於非線性關係資料就無法準確預測資料。"
   ]
  },
  {
   "cell_type": "markdown",
   "metadata": {},
   "source": [
    "2.在使用迴歸分析前，必須要確認資料是否符合迴歸分析的基本統計假設，否則，當資料違反迴歸分析的基本統計假設時，會導致統計推論偏誤的發生。\n",
    "迴歸分析的基本統計假設有下列四項：\n",
    "\n",
    "##### 線性關係\n",
    "\n",
    "依變數和自變數之間的關係必須是線性，也就是說，依變數與自變數存在著相當固定比率的關係，若是發現依變數與自變數呈現非線性關係時，可以透過轉換(transform)成線性關係，再進行迴歸分析。\n",
    "\n",
    "##### 常態性(normality)\n",
    "\n",
    "若是資料呈現`常態分配 (normal distribution)`，則誤差項也會呈現同樣的分配，當樣本數夠大時，檢查的方式是使用簡單的 Histogram (直方圖)，若是樣本數較小時，檢查的方式是使用` normal probability plot` (常態機率圖)。\n",
    "\n",
    "##### 誤差項的獨立性\n",
    "\n",
    "自變數的誤差項，相互之間應該是獨立的，也就是誤差項與誤差項之間没有相互關係，否則，在估計迴歸參數時，會降低統計的檢定力，我們可以藉由殘差(Residuals)的圖形分析來檢查，尤其是與時間序列和事件相關的資料，特別需要注意去處理。\n",
    "\n",
    "##### 誤差項的變異數相等(Homoscedasticity)\n",
    "\n",
    "自變數的誤差項除了需要呈現常態性分配外，其變量數也需要相等，變量數的不相等(heteroscedasticity)會導致自變數無法有效的估計應變數，例如：殘差分佈分析時，所呈現的三角形分佈和鑽石分佈，當變異數的不相等發生時，我們可以透過轉換(transform)成變異數的相等後，再進行迴歸分析。"
   ]
  },
  {
   "cell_type": "markdown",
   "metadata": {},
   "source": [
    "# 參考解答\n",
    "\n",
    "1. 若是線性回歸 `Linear regression `是無法準確預測非線性的資料集的，即使有很多參數，仍然是使用線性的方式來擬和資料。所以當資料具有非線性的關係時，`Linear Regression` 的表現就會變差。Logistic Regression 雖然是[廣義的線性模型](https://www.zhihu.com/question/30726036)，但經過 Sigmoid 函數以及 kernel trick，是可以解決非線性問題的，這部分屬於較進階的課程，若有興趣可參考[1](https://zhuanlan.zhihu.com/p/30933101)、[2](https://www.zhihu.com/question/29385169)\n",
    "\n",
    "\n",
    "2. 通常對資料有五個基本假設。[參考這裏](https://blog.csdn.net/Noob_daniel/article/details/76087829)，當然現今模型有許多技巧即使資料不符合基本假設一樣能夠訓練，但對模型使用的基本限制有一定的了解能夠幫助你找出訓練不佳的問題是什麼。"
   ]
  },
  {
   "cell_type": "code",
   "execution_count": null,
   "metadata": {},
   "outputs": [],
   "source": []
  }
 ],
 "metadata": {
  "kernelspec": {
   "display_name": "Python 3",
   "language": "python",
   "name": "python3"
  },
  "language_info": {
   "codemirror_mode": {
    "name": "ipython",
    "version": 3
   },
   "file_extension": ".py",
   "mimetype": "text/x-python",
   "name": "python",
   "nbconvert_exporter": "python",
   "pygments_lexer": "ipython3",
   "version": "3.7.6"
  }
 },
 "nbformat": 4,
 "nbformat_minor": 2
}
